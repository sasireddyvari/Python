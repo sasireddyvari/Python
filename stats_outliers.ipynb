{
  "nbformat": 4,
  "nbformat_minor": 0,
  "metadata": {
    "colab": {
      "name": "stats_outliers.ipynb",
      "provenance": [],
      "mount_file_id": "1cYKHeyOyge0IEE_Yy6hT9HB1qV-J31f-",
      "authorship_tag": "ABX9TyNu6uJlHa6G7jFV9DV02pKH",
      "include_colab_link": true
    },
    "kernelspec": {
      "name": "python3",
      "display_name": "Python 3"
    }
  },
  "cells": [
    {
      "cell_type": "markdown",
      "metadata": {
        "id": "view-in-github",
        "colab_type": "text"
      },
      "source": [
        "<a href=\"https://colab.research.google.com/github/sasireddyvari/Python/blob/master/stats_outliers.ipynb\" target=\"_parent\"><img src=\"https://colab.research.google.com/assets/colab-badge.svg\" alt=\"Open In Colab\"/></a>"
      ]
    },
    {
      "cell_type": "markdown",
      "metadata": {
        "id": "BzmgT0fW7rL8"
      },
      "source": [
        "**What is an outlier?** \n",
        "\n",
        "An outlier is a data point in a data set that is distant from all other observations. A data point that lies outside the overall distribution of the dataset."
      ]
    },
    {
      "cell_type": "code",
      "metadata": {
        "id": "EkD5crbd24Qd"
      },
      "source": [
        "import numpy as np\n",
        "import matplotlib.pyplot as plt"
      ],
      "execution_count": 1,
      "outputs": []
    },
    {
      "cell_type": "markdown",
      "metadata": {
        "id": "2zDY_QC18FCY"
      },
      "source": [
        "**What are the criteria to identify an outlier?**\n",
        "\n",
        "Data point that falls outside of 1.5 times of an interquartile range above the 3rd quartile and below the 1st quartile \n",
        "\n",
        "**or**\n",
        "\n",
        "Data point that falls outside of 3 standard deviations. we can use a z score and if the z score falls outside of 2 standard deviation"
      ]
    },
    {
      "cell_type": "markdown",
      "metadata": {
        "id": "6z7-oMkn-m_9"
      },
      "source": [
        "**Various ways of finding the outlier.**\n",
        "\n",
        "- Using scatter plots\n",
        "- Box plot\n",
        "- using z score\n",
        "- using the IQR interquantile range"
      ]
    },
    {
      "cell_type": "code",
      "metadata": {
        "colab": {
          "base_uri": "https://localhost:8080/"
        },
        "id": "1PmMh9dw3EMQ",
        "outputId": "05cba6bf-35ed-4bde-c371-1854c9ed56f8"
      },
      "source": [
        "!unzip '/content/drive/MyDrive/Colab Notebooks/CreditCard_Fraud_Detection/credit_card_fraud_detection.csv.zip'"
      ],
      "execution_count": 5,
      "outputs": [
        {
          "output_type": "stream",
          "text": [
            "Archive:  /content/drive/MyDrive/Colab Notebooks/CreditCard_Fraud_Detection/credit_card_fraud_detection.csv.zip\n",
            "replace creditcard.csv? [y]es, [n]o, [A]ll, [N]one, [r]ename: Y\n",
            "  inflating: creditcard.csv          \n"
          ],
          "name": "stdout"
        }
      ]
    },
    {
      "cell_type": "code",
      "metadata": {
        "id": "QuwODiDyS7dN"
      },
      "source": [
        "dataset= [1,2,3,4,5,6,6,34,5,77,8,99,12,23,12,8,9,7,8,5,15,14,5,6,6,1234,1246,1245,26,29]"
      ],
      "execution_count": 38,
      "outputs": []
    },
    {
      "cell_type": "markdown",
      "metadata": {
        "id": "8szMWIWfZhKD"
      },
      "source": [
        "**Using Z score**"
      ]
    },
    {
      "cell_type": "code",
      "metadata": {
        "id": "yWQLsGvDTlEn"
      },
      "source": [
        "outliers=[]\n",
        "def detect_outliers(data):\n",
        "  threshold=3\n",
        "  mn=np.mean(data)\n",
        "  std=np.std(data)\n",
        "  #print(mn,std)\n",
        "\n",
        "  for val in data:\n",
        "    zscore=(val-mn)/std\n",
        "    #print(np.abs(zscore))\n",
        "    if np.abs(zscore)>threshold:\n",
        "      outliers.append(val)\n",
        "  return outliers"
      ],
      "execution_count": 42,
      "outputs": []
    },
    {
      "cell_type": "code",
      "metadata": {
        "colab": {
          "base_uri": "https://localhost:8080/"
        },
        "id": "QwaKUmAVabLM",
        "outputId": "d4a6e9ae-14b5-4f32-bac3-e60fd07f4555"
      },
      "source": [
        "detect_outliers(dataset)"
      ],
      "execution_count": 43,
      "outputs": [
        {
          "output_type": "execute_result",
          "data": {
            "text/plain": [
              "[1246, 1245]"
            ]
          },
          "metadata": {
            "tags": []
          },
          "execution_count": 43
        }
      ]
    },
    {
      "cell_type": "code",
      "metadata": {
        "colab": {
          "base_uri": "https://localhost:8080/"
        },
        "id": "28LuREiAaktB",
        "outputId": "2c16214b-4fe5-4adb-ec71-04edfbfb1799"
      },
      "source": [
        "sorted(dataset)"
      ],
      "execution_count": 44,
      "outputs": [
        {
          "output_type": "execute_result",
          "data": {
            "text/plain": [
              "[1,\n",
              " 2,\n",
              " 3,\n",
              " 4,\n",
              " 5,\n",
              " 5,\n",
              " 5,\n",
              " 5,\n",
              " 6,\n",
              " 6,\n",
              " 6,\n",
              " 6,\n",
              " 7,\n",
              " 8,\n",
              " 8,\n",
              " 8,\n",
              " 9,\n",
              " 12,\n",
              " 12,\n",
              " 14,\n",
              " 15,\n",
              " 23,\n",
              " 26,\n",
              " 29,\n",
              " 34,\n",
              " 77,\n",
              " 99,\n",
              " 1234,\n",
              " 1245,\n",
              " 1246]"
            ]
          },
          "metadata": {
            "tags": []
          },
          "execution_count": 44
        }
      ]
    },
    {
      "cell_type": "code",
      "metadata": {
        "colab": {
          "base_uri": "https://localhost:8080/"
        },
        "id": "w-TT2_TBhWDZ",
        "outputId": "33e23825-af0f-4675-dd80-8400a9c8f240"
      },
      "source": [
        "quantile1, quantile3= np.percentile(dataset,[25,75])\n",
        "print(quantile1,quantile3)"
      ],
      "execution_count": 46,
      "outputs": [
        {
          "output_type": "stream",
          "text": [
            "5.25 25.25\n"
          ],
          "name": "stdout"
        }
      ]
    },
    {
      "cell_type": "code",
      "metadata": {
        "colab": {
          "base_uri": "https://localhost:8080/"
        },
        "id": "QuaNPuMshoG0",
        "outputId": "3b469072-160c-4860-d55d-24c9f85224c5"
      },
      "source": [
        "iqr_value=quantile3-quantile1\n",
        "print(iqr_value)"
      ],
      "execution_count": 49,
      "outputs": [
        {
          "output_type": "stream",
          "text": [
            "20.0\n"
          ],
          "name": "stdout"
        }
      ]
    },
    {
      "cell_type": "code",
      "metadata": {
        "id": "ooY9rc6EiUcv"
      },
      "source": [
        "lower_bound_val=quantile1 - (1.5 * iqr_value)\n",
        "upper_bound_val=quantile3 + (1.5 * iqr_value)"
      ],
      "execution_count": 51,
      "outputs": []
    },
    {
      "cell_type": "code",
      "metadata": {
        "colab": {
          "base_uri": "https://localhost:8080/"
        },
        "id": "lew24Nm2i1Cv",
        "outputId": "fc588d83-0299-45b3-cdaf-737216336229"
      },
      "source": [
        "print(lower_bound_val,upper_bound_val)"
      ],
      "execution_count": 52,
      "outputs": [
        {
          "output_type": "stream",
          "text": [
            "-24.75 55.25\n"
          ],
          "name": "stdout"
        }
      ]
    },
    {
      "cell_type": "code",
      "metadata": {
        "id": "tNGcfeKhi-mE"
      },
      "source": [
        ""
      ],
      "execution_count": null,
      "outputs": []
    }
  ]
}