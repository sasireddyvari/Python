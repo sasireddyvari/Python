{
 "cells": [
  {
   "cell_type": "code",
   "execution_count": 2,
   "metadata": {},
   "outputs": [],
   "source": [
    "import pandas as pd"
   ]
  },
  {
   "cell_type": "code",
   "execution_count": 3,
   "metadata": {},
   "outputs": [],
   "source": [
    "import numpy as np"
   ]
  },
  {
   "cell_type": "code",
   "execution_count": 5,
   "metadata": {},
   "outputs": [],
   "source": [
    "from numpy.random import randn as rn"
   ]
  },
  {
   "cell_type": "code",
   "execution_count": 7,
   "metadata": {},
   "outputs": [],
   "source": [
    "from flask import Flask,render_template,request,jsonify"
   ]
  },
  {
   "cell_type": "code",
   "execution_count": 8,
   "metadata": {},
   "outputs": [],
   "source": [
    "import os"
   ]
  },
  {
   "cell_type": "code",
   "execution_count": 21,
   "metadata": {},
   "outputs": [
    {
     "name": "stdout",
     "output_type": "stream",
     "text": [
      "Collecting Flask-Cors\n",
      "  Using cached Flask_Cors-3.0.8-py2.py3-none-any.whl (14 kB)\n",
      "Requirement already satisfied: Flask>=0.9 in c:\\users\\re20085166\\anaconda3\\lib\\site-packages (from Flask-Cors) (1.1.2)\n",
      "Requirement already satisfied: Six in c:\\users\\re20085166\\anaconda3\\lib\\site-packages (from Flask-Cors) (1.15.0)\n",
      "Requirement already satisfied: Werkzeug>=0.15 in c:\\users\\re20085166\\anaconda3\\lib\\site-packages (from Flask>=0.9->Flask-Cors) (1.0.1)\n",
      "Requirement already satisfied: Jinja2>=2.10.1 in c:\\users\\re20085166\\anaconda3\\lib\\site-packages (from Flask>=0.9->Flask-Cors) (2.11.2)\n",
      "Requirement already satisfied: click>=5.1 in c:\\users\\re20085166\\anaconda3\\lib\\site-packages (from Flask>=0.9->Flask-Cors) (7.1.2)\n",
      "Requirement already satisfied: itsdangerous>=0.24 in c:\\users\\re20085166\\anaconda3\\lib\\site-packages (from Flask>=0.9->Flask-Cors) (1.1.0)\n",
      "Requirement already satisfied: MarkupSafe>=0.23 in c:\\users\\re20085166\\anaconda3\\lib\\site-packages (from Jinja2>=2.10.1->Flask>=0.9->Flask-Cors) (1.1.1)\n",
      "Installing collected packages: Flask-Cors\n",
      "Successfully installed Flask-Cors-3.0.8\n"
     ]
    }
   ],
   "source": [
    "!pip install Flask-Cors\n",
    "from flask_cors import CORS, cross_origin"
   ]
  },
  {
   "cell_type": "code",
   "execution_count": 22,
   "metadata": {},
   "outputs": [],
   "source": [
    "import requests"
   ]
  },
  {
   "cell_type": "code",
   "execution_count": 25,
   "metadata": {},
   "outputs": [],
   "source": [
    "from bs4 import BeautifulSoup as bs"
   ]
  },
  {
   "cell_type": "code",
   "execution_count": 26,
   "metadata": {},
   "outputs": [],
   "source": [
    "from urllib.request import urlopen as uReq"
   ]
  },
  {
   "cell_type": "code",
   "execution_count": null,
   "metadata": {},
   "outputs": [],
   "source": []
  }
 ],
 "metadata": {
  "kernelspec": {
   "display_name": "Python 3",
   "language": "python",
   "name": "python3"
  },
  "language_info": {
   "codemirror_mode": {
    "name": "ipython",
    "version": 3
   },
   "file_extension": ".py",
   "mimetype": "text/x-python",
   "name": "python",
   "nbconvert_exporter": "python",
   "pygments_lexer": "ipython3",
   "version": "3.8.3"
  }
 },
 "nbformat": 4,
 "nbformat_minor": 4
}
