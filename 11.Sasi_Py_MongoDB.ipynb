{
 "cells": [
  {
   "cell_type": "markdown",
   "metadata": {},
   "source": [
    "# MongoDB\n",
    "\n",
    "## mongo = humongous = huge /enormous"
   ]
  },
  {
   "cell_type": "markdown",
   "metadata": {},
   "source": [
    "- Mongo server\n",
    "- Mongo compass old version 2019\n"
   ]
  },
  {
   "cell_type": "markdown",
   "metadata": {},
   "source": [
    "Mongo DB server--> Mongo Database --> Collections(similar to tables) --> Document/Record(similar to Row)"
   ]
  },
  {
   "cell_type": "code",
   "execution_count": 1,
   "metadata": {},
   "outputs": [],
   "source": [
    "# pip install pymongo\n",
    "import pymongo"
   ]
  },
  {
   "cell_type": "code",
   "execution_count": 49,
   "metadata": {},
   "outputs": [],
   "source": [
    " # package which enables us to connect to the MongoDB\n",
    "dbConn = pymongo.MongoClient(\"mongodb://localhost:27017/\")  # connecting to the locally running MongoDB Instance\n"
   ]
  },
  {
   "cell_type": "code",
   "execution_count": 4,
   "metadata": {},
   "outputs": [],
   "source": [
    "dbname='demoDB'\n",
    "db = dbConn[dbname] # connecting to the databse named demoDB present in the mongoDB\n",
    "# if the database is not present, it'll autoamtically create it and it will not show in the JupYter or Mongo Compass\n",
    "# unless the data is inserted"
   ]
  },
  {
   "cell_type": "code",
   "execution_count": 6,
   "metadata": {},
   "outputs": [
    {
     "name": "stdout",
     "output_type": "stream",
     "text": [
      "['admin', 'config', 'crawlerDB', 'demoDB', 'local', 'wafers_db']\n"
     ]
    }
   ],
   "source": [
    "# show all the databases\n",
    "print(dbConn.list_database_names())"
   ]
  },
  {
   "cell_type": "code",
   "execution_count": 7,
   "metadata": {},
   "outputs": [
    {
     "name": "stdout",
     "output_type": "stream",
     "text": [
      "This Databse exists\n"
     ]
    }
   ],
   "source": [
    "# check if the databse exists in mongoDB\n",
    "dblist=dbConn.list_database_names() # obtaining all the database names\n",
    "db_name='demoDB'\n",
    "\n",
    "if dblist.index(db_name)==-1:\n",
    "    print (\"This Databse doesn't exist\")\n",
    "else:\n",
    "    print (\"This Databse exists\")"
   ]
  },
  {
   "cell_type": "code",
   "execution_count": 10,
   "metadata": {},
   "outputs": [],
   "source": [
    "# connecting to a collection--- collections are analogous to tables\n",
    "collection_name='mongo_demo'\n",
    "collection=db[collection_name]  # connectig to the collection itself present in the database.\n",
    "# if not present , it will create one table and it will not show in the JupYter or Mongo Compass\n",
    "# unless the data is inserted"
   ]
  },
  {
   "cell_type": "code",
   "execution_count": 11,
   "metadata": {},
   "outputs": [
    {
     "name": "stdout",
     "output_type": "stream",
     "text": [
      "The collection exists.\n"
     ]
    }
   ],
   "source": [
    "# cheking if a collection exists\n",
    "if collection_name in db.list_collection_names():\n",
    "    print(\"The collection exists.\")\n",
    "else:\n",
    "    print(\"The collection doesn't exist.\")    "
   ]
  },
  {
   "cell_type": "code",
   "execution_count": 17,
   "metadata": {},
   "outputs": [],
   "source": [
    "# inserting row into the collection\n",
    "my_row = {'Serial No': '9998',\n",
    " 'GRE Score': '337',\n",
    " 'TOEFL Score': '118',\n",
    " 'University Rating': '4',\n",
    " 'SOP': '4.5',\n",
    " 'LOR': '4.5',\n",
    " 'CGPA': '9.65',\n",
    " 'Research': '1',\n",
    " 'Chance of Admit': '0.92'} # creating key value pairs for inserting into the DB"
   ]
  },
  {
   "cell_type": "code",
   "execution_count": 18,
   "metadata": {},
   "outputs": [
    {
     "name": "stdout",
     "output_type": "stream",
     "text": [
      "<pymongo.results.InsertOneResult object at 0x00000204B60F0A88>\n"
     ]
    }
   ],
   "source": [
    "x = collection.insert_one(my_row)  # inserting record into the collection "
   ]
  },
  {
   "cell_type": "code",
   "execution_count": 22,
   "metadata": {},
   "outputs": [
    {
     "name": "stdout",
     "output_type": "stream",
     "text": [
      "5e74c53ee95ed88943f59442\n"
     ]
    }
   ],
   "source": [
    "print(x.inserted_id) # printing the unique id for insert"
   ]
  },
  {
   "cell_type": "code",
   "execution_count": 24,
   "metadata": {},
   "outputs": [],
   "source": [
    "# inserting multiple rows once\n",
    "my_rows = [\n",
    "{'Serial No': '9997',\n",
    " 'GRE Score': '337',\n",
    " 'TOEFL Score': '118',\n",
    " 'University Rating': '4',\n",
    " 'SOP': '4.5',\n",
    " 'LOR': '4.5',\n",
    " 'CGPA': '9.65',\n",
    " 'Research': '1',\n",
    " 'Chance of Admit': '0.92'},\n",
    "  {\n",
    "    'Serial No': '9996',\n",
    " 'GRE Score': '336',\n",
    " 'TOEFL Score': '118',\n",
    " 'University Rating': '4',\n",
    " 'SOP': '4.5',\n",
    " 'LOR': '4.5',\n",
    " 'CGPA': '9.6',\n",
    " 'Research': '0',\n",
    " 'Chance of Admit': '0.92'},\n",
    "  {\n",
    "    'Serial No': '9995',\n",
    " 'GRE Score': '337',\n",
    " 'TOEFL Score': '118',\n",
    " 'University Rating': '4',\n",
    " 'SOP': '4.5',\n",
    " 'LOR': '4.5',\n",
    " 'CGPA': '9.5',\n",
    " 'Research': '1',\n",
    " 'Chance of Admit': '0.92'},\n",
    "  {\n",
    "    'Serial No': '9994',\n",
    " 'GRE Score': '334',\n",
    " 'TOEFL Score': '119',\n",
    " 'University Rating': '4',\n",
    " 'SOP': '4.5',\n",
    " 'LOR': '4.5',\n",
    " 'CGPA': '9.4',\n",
    " 'Research': '1',\n",
    " 'Chance of Admit': '0.92'},\n",
    "  {\n",
    "    'Serial No': '9993',\n",
    " 'GRE Score': '337',\n",
    " 'TOEFL Score': '118',\n",
    " 'University Rating': '4',\n",
    " 'SOP': '4.5',\n",
    " 'LOR': '4.5',\n",
    " 'CGPA': '9.65',\n",
    " 'Research': '1',\n",
    " 'Chance of Admit': '0.92'}\n",
    "\n",
    "]# creating key value pairs for inserting into the DB\n"
   ]
  },
  {
   "cell_type": "code",
   "execution_count": 26,
   "metadata": {},
   "outputs": [],
   "source": [
    "# inserting records into the collection \n",
    "x = collection.insert_many(my_rows) "
   ]
  },
  {
   "cell_type": "code",
   "execution_count": 27,
   "metadata": {},
   "outputs": [
    {
     "name": "stdout",
     "output_type": "stream",
     "text": [
      "[ObjectId('5e74d705e95ed88943f59443'), ObjectId('5e74d705e95ed88943f59444'), ObjectId('5e74d705e95ed88943f59445'), ObjectId('5e74d705e95ed88943f59446'), ObjectId('5e74d705e95ed88943f59447')]\n"
     ]
    }
   ],
   "source": [
    "# printing the unique id for insert\n",
    "print(x.inserted_ids) "
   ]
  },
  {
   "cell_type": "code",
   "execution_count": 28,
   "metadata": {},
   "outputs": [
    {
     "data": {
      "text/plain": [
       "{'_id': ObjectId('5e74c0f1b6e0ce74542d4910'),\n",
       " 'Serial No': '4',\n",
       " 'GRE Score': '322',\n",
       " 'TOEFL Score': '110',\n",
       " 'University Rating': '3',\n",
       " 'SOP': '3.5',\n",
       " 'LOR': '2.5',\n",
       " 'CGPA': '8.67',\n",
       " 'Research': '1',\n",
       " 'Chance of Admit': '0.8'}"
      ]
     },
     "execution_count": 28,
     "metadata": {},
     "output_type": "execute_result"
    }
   ],
   "source": [
    "# retieving all the records from collection\n",
    "result= collection.find({}) \n",
    "result[3] #printing the third record"
   ]
  },
  {
   "cell_type": "markdown",
   "metadata": {},
   "source": [
    "whenever we are calling the find() method, if we have too many rows/records in the table, then we'll get too many responses for that which might overwhelm the application. To overcome this scenario, we have a way in mongoDB to have an upper limit on the number of rows returned.\n",
    "\n",
    "It is called the **limit()** method."
   ]
  },
  {
   "cell_type": "code",
   "execution_count": 53,
   "metadata": {},
   "outputs": [
    {
     "name": "stdout",
     "output_type": "stream",
     "text": [
      "{'_id': ObjectId('5e74c0f1b6e0ce74542d490e'), 'Serial No': '2', 'GRE Score': '324', 'TOEFL Score': '107', 'University Rating': '4', 'SOP': '4', 'LOR': '4.5', 'CGPA': '8.87', 'Research': '1', 'Chance of Admit': '0.76'}\n",
      "{'_id': ObjectId('5e74c0f1b6e0ce74542d490f'), 'Serial No': '3', 'GRE Score': '', 'TOEFL Score': '104', 'University Rating': '3', 'SOP': '3', 'LOR': '3.5', 'CGPA': '8', 'Research': '1', 'Chance of Admit': '0.72'}\n",
      "{'_id': ObjectId('5e74c0f1b6e0ce74542d4910'), 'Serial No': '4', 'GRE Score': '322', 'TOEFL Score': '110', 'University Rating': '3', 'SOP': '3.5', 'LOR': '2.5', 'CGPA': '8.67', 'Research': '1', 'Chance of Admit': '0.8'}\n",
      "{'_id': ObjectId('5e74c0f1b6e0ce74542d4911'), 'Serial No': '5', 'GRE Score': '314', 'TOEFL Score': '103', 'University Rating': '2', 'SOP': '2', 'LOR': '3', 'CGPA': '8.21', 'Research': '0', 'Chance of Admit': '0.65'}\n",
      "{'_id': ObjectId('5e74c0f1b6e0ce74542d4912'), 'Serial No': '6', 'GRE Score': '330', 'TOEFL Score': '115', 'University Rating': '5', 'SOP': '4.5', 'LOR': '3', 'CGPA': '9.34', 'Research': '1', 'Chance of Admit': '0.9'}\n"
     ]
    }
   ],
   "source": [
    "# printing only the five rows\n",
    "result_total= collection.find({}).limit(5)\n",
    "for res in result_total:\n",
    "    print(res)"
   ]
  },
  {
   "cell_type": "code",
   "execution_count": 34,
   "metadata": {},
   "outputs": [
    {
     "name": "stdout",
     "output_type": "stream",
     "text": [
      "{'_id': ObjectId('5e74c0f1b6e0ce74542d490d'), 'GRE Score': '337', 'TOEFL Score': '118'}\n",
      "{'_id': ObjectId('5e74c0f1b6e0ce74542d490e'), 'GRE Score': '324', 'TOEFL Score': '107'}\n",
      "{'_id': ObjectId('5e74c0f1b6e0ce74542d490f'), 'GRE Score': '', 'TOEFL Score': '104'}\n",
      "{'_id': ObjectId('5e74c0f1b6e0ce74542d4910'), 'GRE Score': '322', 'TOEFL Score': '110'}\n",
      "{'_id': ObjectId('5e74c0f1b6e0ce74542d4911'), 'GRE Score': '314', 'TOEFL Score': '103'}\n",
      "{'_id': ObjectId('5e74c0f1b6e0ce74542d4912'), 'GRE Score': '330', 'TOEFL Score': '115'}\n",
      "{'_id': ObjectId('5e74c0f1b6e0ce74542d4913'), 'GRE Score': '321', 'TOEFL Score': '109'}\n",
      "{'_id': ObjectId('5e74c0f1b6e0ce74542d4914'), 'GRE Score': '308', 'TOEFL Score': '101'}\n",
      "{'_id': ObjectId('5e74c0f1b6e0ce74542d4915'), 'GRE Score': '302', 'TOEFL Score': '102'}\n",
      "{'_id': ObjectId('5e74c0f1b6e0ce74542d4916'), 'GRE Score': '323', 'TOEFL Score': '108'}\n",
      "{'_id': ObjectId('5e74c0f1b6e0ce74542d4917'), 'GRE Score': '325', 'TOEFL Score': '106'}\n",
      "{'_id': ObjectId('5e74c0f1b6e0ce74542d4918'), 'GRE Score': '327', 'TOEFL Score': '111'}\n",
      "{'_id': ObjectId('5e74c0f1b6e0ce74542d4919'), 'GRE Score': '', 'TOEFL Score': '112'}\n",
      "{'_id': ObjectId('5e74c0f1b6e0ce74542d491a'), 'GRE Score': '307', 'TOEFL Score': '109'}\n",
      "{'_id': ObjectId('5e74c0f1b6e0ce74542d491b'), 'GRE Score': '311', 'TOEFL Score': '104'}\n",
      "{'_id': ObjectId('5e74c0f1b6e0ce74542d491c'), 'GRE Score': '314', 'TOEFL Score': '105'}\n",
      "{'_id': ObjectId('5e74c0f1b6e0ce74542d491d'), 'GRE Score': '317', 'TOEFL Score': '107'}\n",
      "{'_id': ObjectId('5e74c0f1b6e0ce74542d491e'), 'GRE Score': '319', 'TOEFL Score': '106'}\n",
      "{'_id': ObjectId('5e74c0f1b6e0ce74542d491f'), 'GRE Score': '318', 'TOEFL Score': '110'}\n",
      "{'_id': ObjectId('5e74c0f1b6e0ce74542d4920'), 'GRE Score': '303', 'TOEFL Score': '102'}\n",
      "{'_id': ObjectId('5e74c0f1b6e0ce74542d4921'), 'GRE Score': '312', 'TOEFL Score': '107'}\n",
      "{'_id': ObjectId('5e74c0f1b6e0ce74542d4922'), 'GRE Score': '325', 'TOEFL Score': '114'}\n",
      "{'_id': ObjectId('5e74c0f1b6e0ce74542d4923'), 'GRE Score': '328', 'TOEFL Score': '116'}\n",
      "{'_id': ObjectId('5e74c0f1b6e0ce74542d4924'), 'GRE Score': '', 'TOEFL Score': '119'}\n",
      "{'_id': ObjectId('5e74c0f1b6e0ce74542d4925'), 'GRE Score': '336', 'TOEFL Score': '119'}\n",
      "{'_id': ObjectId('5e74c0f1b6e0ce74542d4926'), 'GRE Score': '340', 'TOEFL Score': '120'}\n",
      "{'_id': ObjectId('5e74c0f1b6e0ce74542d4927'), 'GRE Score': '322', 'TOEFL Score': '109'}\n",
      "{'_id': ObjectId('5e74c0f1b6e0ce74542d4928'), 'GRE Score': '298', 'TOEFL Score': '98'}\n",
      "{'_id': ObjectId('5e74c0f1b6e0ce74542d4929'), 'GRE Score': '295', 'TOEFL Score': '93'}\n",
      "{'_id': ObjectId('5e74c0f1b6e0ce74542d492a'), 'GRE Score': '310', 'TOEFL Score': '99'}\n",
      "{'_id': ObjectId('5e74c0f1b6e0ce74542d492b'), 'GRE Score': '300', 'TOEFL Score': '97'}\n",
      "{'_id': ObjectId('5e74c0f1b6e0ce74542d492c'), 'GRE Score': '327', 'TOEFL Score': '103'}\n",
      "{'_id': ObjectId('5e74c0f1b6e0ce74542d492d'), 'GRE Score': '338', 'TOEFL Score': '118'}\n",
      "{'_id': ObjectId('5e74c0f1b6e0ce74542d492e'), 'GRE Score': '340', 'TOEFL Score': '114'}\n",
      "{'_id': ObjectId('5e74c0f1b6e0ce74542d492f'), 'GRE Score': '331', 'TOEFL Score': '112'}\n",
      "{'_id': ObjectId('5e74c0f1b6e0ce74542d4930'), 'GRE Score': '320', 'TOEFL Score': '110'}\n",
      "{'_id': ObjectId('5e74c0f1b6e0ce74542d4931'), 'GRE Score': '', 'TOEFL Score': '106'}\n",
      "{'_id': ObjectId('5e74c0f1b6e0ce74542d4932'), 'GRE Score': '300', 'TOEFL Score': '105'}\n",
      "{'_id': ObjectId('5e74c0f1b6e0ce74542d4933'), 'GRE Score': '304', 'TOEFL Score': '105'}\n",
      "{'_id': ObjectId('5e74c0f1b6e0ce74542d4934'), 'GRE Score': '307', 'TOEFL Score': '108'}\n",
      "{'_id': ObjectId('5e74c0f1b6e0ce74542d4935'), 'GRE Score': '308', 'TOEFL Score': '110'}\n",
      "{'_id': ObjectId('5e74c0f1b6e0ce74542d4936'), 'GRE Score': '316', 'TOEFL Score': '105'}\n",
      "{'_id': ObjectId('5e74c0f1b6e0ce74542d4937'), 'GRE Score': '313', 'TOEFL Score': '107'}\n",
      "{'_id': ObjectId('5e74c0f1b6e0ce74542d4938'), 'GRE Score': '332', 'TOEFL Score': '117'}\n",
      "{'_id': ObjectId('5e74c0f1b6e0ce74542d4939'), 'GRE Score': '326', 'TOEFL Score': '113'}\n",
      "{'_id': ObjectId('5e74c0f1b6e0ce74542d493a'), 'GRE Score': '322', 'TOEFL Score': '110'}\n",
      "{'_id': ObjectId('5e74c0f1b6e0ce74542d493b'), 'GRE Score': '329', 'TOEFL Score': '114'}\n",
      "{'_id': ObjectId('5e74c0f1b6e0ce74542d493c'), 'GRE Score': '339', 'TOEFL Score': '119'}\n",
      "{'_id': ObjectId('5e74c0f1b6e0ce74542d493d'), 'GRE Score': '321', 'TOEFL Score': '110'}\n",
      "{'_id': ObjectId('5e74c0f1b6e0ce74542d493e'), 'GRE Score': '327', 'TOEFL Score': '111'}\n",
      "{'_id': ObjectId('5e74c0f1b6e0ce74542d493f'), 'GRE Score': '313', 'TOEFL Score': '98'}\n",
      "{'_id': ObjectId('5e74c0f1b6e0ce74542d4940'), 'GRE Score': '', 'TOEFL Score': '100'}\n",
      "{'_id': ObjectId('5e74c0f1b6e0ce74542d4941'), 'GRE Score': '334', 'TOEFL Score': '116'}\n",
      "{'_id': ObjectId('5e74c0f1b6e0ce74542d4942'), 'GRE Score': '324', 'TOEFL Score': '112'}\n",
      "{'_id': ObjectId('5e74c0f1b6e0ce74542d4943'), 'GRE Score': '322', 'TOEFL Score': '110'}\n",
      "{'_id': ObjectId('5e74c0f1b6e0ce74542d4944'), 'GRE Score': '320', 'TOEFL Score': '103'}\n",
      "{'_id': ObjectId('5e74c0f1b6e0ce74542d4945'), 'GRE Score': '316', 'TOEFL Score': '102'}\n",
      "{'_id': ObjectId('5e74c0f1b6e0ce74542d4946'), 'GRE Score': '298', 'TOEFL Score': ''}\n",
      "{'_id': ObjectId('5e74c0f1b6e0ce74542d4947'), 'GRE Score': '300', 'TOEFL Score': '99'}\n",
      "{'_id': ObjectId('5e74c0f1b6e0ce74542d4948'), 'GRE Score': '311', 'TOEFL Score': '104'}\n",
      "{'_id': ObjectId('5e74c0f1b6e0ce74542d4949'), 'GRE Score': '309', 'TOEFL Score': '100'}\n",
      "{'_id': ObjectId('5e74c0f1b6e0ce74542d494a'), 'GRE Score': '307', 'TOEFL Score': '101'}\n",
      "{'_id': ObjectId('5e74c0f1b6e0ce74542d494b'), 'GRE Score': '304', 'TOEFL Score': '105'}\n",
      "{'_id': ObjectId('5e74c0f1b6e0ce74542d494c'), 'GRE Score': '315', 'TOEFL Score': '107'}\n",
      "{'_id': ObjectId('5e74c0f1b6e0ce74542d494d'), 'GRE Score': '325', 'TOEFL Score': '111'}\n",
      "{'_id': ObjectId('5e74c0f1b6e0ce74542d494e'), 'GRE Score': '325', 'TOEFL Score': '112'}\n",
      "{'_id': ObjectId('5e74c0f1b6e0ce74542d494f'), 'GRE Score': '327', 'TOEFL Score': '114'}\n",
      "{'_id': ObjectId('5e74c0f1b6e0ce74542d4950'), 'GRE Score': '316', 'TOEFL Score': '107'}\n",
      "{'_id': ObjectId('5e74c0f1b6e0ce74542d4951'), 'GRE Score': '318', 'TOEFL Score': '109'}\n",
      "{'_id': ObjectId('5e74c0f1b6e0ce74542d4952'), 'GRE Score': '328', 'TOEFL Score': '115'}\n",
      "{'_id': ObjectId('5e74c0f1b6e0ce74542d4953'), 'GRE Score': '', 'TOEFL Score': '118'}\n",
      "{'_id': ObjectId('5e74c0f1b6e0ce74542d4954'), 'GRE Score': '336', 'TOEFL Score': '112'}\n",
      "{'_id': ObjectId('5e74c0f1b6e0ce74542d4955'), 'GRE Score': '321', 'TOEFL Score': '111'}\n",
      "{'_id': ObjectId('5e74c0f1b6e0ce74542d4956'), 'GRE Score': '314', 'TOEFL Score': '108'}\n",
      "{'_id': ObjectId('5e74c0f1b6e0ce74542d4957'), 'GRE Score': '314', 'TOEFL Score': '106'}\n",
      "{'_id': ObjectId('5e74c0f1b6e0ce74542d4958'), 'GRE Score': '329', 'TOEFL Score': '114'}\n",
      "{'_id': ObjectId('5e74c0f1b6e0ce74542d4959'), 'GRE Score': '327', 'TOEFL Score': '112'}\n",
      "{'_id': ObjectId('5e74c0f1b6e0ce74542d495a'), 'GRE Score': '301', 'TOEFL Score': '99'}\n",
      "{'_id': ObjectId('5e74c0f1b6e0ce74542d495b'), 'GRE Score': '296', 'TOEFL Score': '95'}\n",
      "{'_id': ObjectId('5e74c0f1b6e0ce74542d495c'), 'GRE Score': '294', 'TOEFL Score': '93'}\n",
      "{'_id': ObjectId('5e74c0f1b6e0ce74542d495d'), 'GRE Score': '312', 'TOEFL Score': '105'}\n",
      "{'_id': ObjectId('5e74c0f1b6e0ce74542d495e'), 'GRE Score': '340', 'TOEFL Score': '120'}\n",
      "{'_id': ObjectId('5e74c0f1b6e0ce74542d495f'), 'GRE Score': '320', 'TOEFL Score': '110'}\n",
      "{'_id': ObjectId('5e74c0f1b6e0ce74542d4960'), 'GRE Score': '322', 'TOEFL Score': '115'}\n",
      "{'_id': ObjectId('5e74c0f1b6e0ce74542d4961'), 'GRE Score': '340', 'TOEFL Score': '115'}\n",
      "{'_id': ObjectId('5e74c0f1b6e0ce74542d4962'), 'GRE Score': '319', 'TOEFL Score': '103'}\n",
      "{'_id': ObjectId('5e74c0f1b6e0ce74542d4963'), 'GRE Score': '315', 'TOEFL Score': '106'}\n",
      "{'_id': ObjectId('5e74c0f1b6e0ce74542d4964'), 'GRE Score': '317', 'TOEFL Score': '107'}\n",
      "{'_id': ObjectId('5e74c0f1b6e0ce74542d4965'), 'GRE Score': '314', 'TOEFL Score': '108'}\n",
      "{'_id': ObjectId('5e74c0f1b6e0ce74542d4966'), 'GRE Score': '316', 'TOEFL Score': '109'}\n",
      "{'_id': ObjectId('5e74c0f1b6e0ce74542d4967'), 'GRE Score': '318', 'TOEFL Score': '106'}\n",
      "{'_id': ObjectId('5e74c0f1b6e0ce74542d4968'), 'GRE Score': '299', 'TOEFL Score': '97'}\n",
      "{'_id': ObjectId('5e74c0f1b6e0ce74542d4969'), 'GRE Score': '298', 'TOEFL Score': '98'}\n",
      "{'_id': ObjectId('5e74c0f1b6e0ce74542d496a'), 'GRE Score': '301', 'TOEFL Score': '97'}\n",
      "{'_id': ObjectId('5e74c0f1b6e0ce74542d496b'), 'GRE Score': '303', 'TOEFL Score': '99'}\n",
      "{'_id': ObjectId('5e74c0f1b6e0ce74542d496c'), 'GRE Score': '304', 'TOEFL Score': '100'}\n",
      "{'_id': ObjectId('5e74c0f1b6e0ce74542d496d'), 'GRE Score': '306', 'TOEFL Score': '100'}\n",
      "{'_id': ObjectId('5e74c0f1b6e0ce74542d496e'), 'GRE Score': '331', 'TOEFL Score': '120'}\n",
      "{'_id': ObjectId('5e74c0f1b6e0ce74542d496f'), 'GRE Score': '332', 'TOEFL Score': '119'}\n",
      "{'_id': ObjectId('5e74c0f1b6e0ce74542d4970'), 'GRE Score': '323', 'TOEFL Score': ''}\n",
      "{'_id': ObjectId('5e74c0f1b6e0ce74542d4971'), 'GRE Score': '322', 'TOEFL Score': '107'}\n",
      "{'_id': ObjectId('5e74c0f1b6e0ce74542d4972'), 'GRE Score': '312', 'TOEFL Score': '105'}\n",
      "{'_id': ObjectId('5e74c0f1b6e0ce74542d4973'), 'GRE Score': '314', 'TOEFL Score': '106'}\n",
      "{'_id': ObjectId('5e74c0f1b6e0ce74542d4974'), 'GRE Score': '317', 'TOEFL Score': '104'}\n",
      "{'_id': ObjectId('5e74c0f1b6e0ce74542d4975'), 'GRE Score': '326', 'TOEFL Score': '112'}\n",
      "{'_id': ObjectId('5e74c0f1b6e0ce74542d4976'), 'GRE Score': '316', 'TOEFL Score': '110'}\n",
      "{'_id': ObjectId('5e74c0f1b6e0ce74542d4977'), 'GRE Score': '329', 'TOEFL Score': '111'}\n",
      "{'_id': ObjectId('5e74c0f1b6e0ce74542d4978'), 'GRE Score': '338', 'TOEFL Score': '117'}\n",
      "{'_id': ObjectId('5e74c0f1b6e0ce74542d4979'), 'GRE Score': '331', 'TOEFL Score': '116'}\n",
      "{'_id': ObjectId('5e74c0f1b6e0ce74542d497a'), 'GRE Score': '304', 'TOEFL Score': '103'}\n",
      "{'_id': ObjectId('5e74c0f1b6e0ce74542d497b'), 'GRE Score': '305', 'TOEFL Score': '108'}\n",
      "{'_id': ObjectId('5e74c0f1b6e0ce74542d497c'), 'GRE Score': '321', 'TOEFL Score': '109'}\n",
      "{'_id': ObjectId('5e74c0f1b6e0ce74542d497d'), 'GRE Score': '301', 'TOEFL Score': '107'}\n",
      "{'_id': ObjectId('5e74c0f1b6e0ce74542d497e'), 'GRE Score': '320', 'TOEFL Score': '110'}\n",
      "{'_id': ObjectId('5e74c0f1b6e0ce74542d497f'), 'GRE Score': '311', 'TOEFL Score': '105'}\n",
      "{'_id': ObjectId('5e74c0f1b6e0ce74542d4980'), 'GRE Score': '310', 'TOEFL Score': '106'}\n",
      "{'_id': ObjectId('5e74c0f1b6e0ce74542d4981'), 'GRE Score': '299', 'TOEFL Score': '102'}\n",
      "{'_id': ObjectId('5e74c0f1b6e0ce74542d4982'), 'GRE Score': '290', 'TOEFL Score': '104'}\n",
      "{'_id': ObjectId('5e74c0f1b6e0ce74542d4983'), 'GRE Score': '296', 'TOEFL Score': '99'}\n",
      "{'_id': ObjectId('5e74c0f1b6e0ce74542d4984'), 'GRE Score': '327', 'TOEFL Score': '104'}\n",
      "{'_id': ObjectId('5e74c0f1b6e0ce74542d4985'), 'GRE Score': '335', 'TOEFL Score': '117'}\n",
      "{'_id': ObjectId('5e74c0f1b6e0ce74542d4986'), 'GRE Score': '334', 'TOEFL Score': '119'}\n",
      "{'_id': ObjectId('5e74c0f1b6e0ce74542d4987'), 'GRE Score': '310', 'TOEFL Score': '106'}\n",
      "{'_id': ObjectId('5e74c0f1b6e0ce74542d4988'), 'GRE Score': '308', 'TOEFL Score': '108'}\n",
      "{'_id': ObjectId('5e74c0f1b6e0ce74542d4989'), 'GRE Score': '', 'TOEFL Score': '106'}\n",
      "{'_id': ObjectId('5e74c0f1b6e0ce74542d498a'), 'GRE Score': '300', 'TOEFL Score': '100'}\n",
      "{'_id': ObjectId('5e74c0f1b6e0ce74542d498b'), 'GRE Score': '323', 'TOEFL Score': '113'}\n",
      "{'_id': ObjectId('5e74c0f1b6e0ce74542d498c'), 'GRE Score': '319', 'TOEFL Score': '112'}\n",
      "{'_id': ObjectId('5e74c0f1b6e0ce74542d498d'), 'GRE Score': '326', 'TOEFL Score': '112'}\n",
      "{'_id': ObjectId('5e74c0f1b6e0ce74542d498e'), 'GRE Score': '333', 'TOEFL Score': '118'}\n",
      "{'_id': ObjectId('5e74c0f1b6e0ce74542d498f'), 'GRE Score': '339', 'TOEFL Score': '114'}\n",
      "{'_id': ObjectId('5e74c0f1b6e0ce74542d4990'), 'GRE Score': '303', 'TOEFL Score': '105'}\n",
      "{'_id': ObjectId('5e74c0f1b6e0ce74542d4991'), 'GRE Score': '309', 'TOEFL Score': '105'}\n",
      "{'_id': ObjectId('5e74c0f1b6e0ce74542d4992'), 'GRE Score': '323', 'TOEFL Score': '112'}\n",
      "{'_id': ObjectId('5e74c0f1b6e0ce74542d4993'), 'GRE Score': '333', 'TOEFL Score': '113'}\n",
      "{'_id': ObjectId('5e74c0f1b6e0ce74542d4994'), 'GRE Score': '314', 'TOEFL Score': ''}\n",
      "{'_id': ObjectId('5e74c0f1b6e0ce74542d4995'), 'GRE Score': '312', 'TOEFL Score': '103'}\n",
      "{'_id': ObjectId('5e74c0f1b6e0ce74542d4996'), 'GRE Score': '316', 'TOEFL Score': '100'}\n",
      "{'_id': ObjectId('5e74c0f1b6e0ce74542d4997'), 'GRE Score': '326', 'TOEFL Score': '116'}\n",
      "{'_id': ObjectId('5e74c0f1b6e0ce74542d4998'), 'GRE Score': '318', 'TOEFL Score': '109'}\n",
      "{'_id': ObjectId('5e74c0f1b6e0ce74542d4999'), 'GRE Score': '329', 'TOEFL Score': '110'}\n",
      "{'_id': ObjectId('5e74c0f1b6e0ce74542d499a'), 'GRE Score': '332', 'TOEFL Score': '118'}\n",
      "{'_id': ObjectId('5e74c0f1b6e0ce74542d499b'), 'GRE Score': '331', 'TOEFL Score': '115'}\n",
      "{'_id': ObjectId('5e74c0f1b6e0ce74542d499c'), 'GRE Score': '340', 'TOEFL Score': '120'}\n",
      "{'_id': ObjectId('5e74c0f1b6e0ce74542d499d'), 'GRE Score': '325', 'TOEFL Score': '112'}\n",
      "{'_id': ObjectId('5e74c0f1b6e0ce74542d499e'), 'GRE Score': '320', 'TOEFL Score': '113'}\n",
      "{'_id': ObjectId('5e74c0f1b6e0ce74542d499f'), 'GRE Score': '315', 'TOEFL Score': '105'}\n",
      "{'_id': ObjectId('5e74c0f1b6e0ce74542d49a0'), 'GRE Score': '326', 'TOEFL Score': '114'}\n",
      "{'_id': ObjectId('5e74c0f1b6e0ce74542d49a1'), 'GRE Score': '339', 'TOEFL Score': '116'}\n",
      "{'_id': ObjectId('5e74c0f1b6e0ce74542d49a2'), 'GRE Score': '311', 'TOEFL Score': '106'}\n",
      "{'_id': ObjectId('5e74c0f1b6e0ce74542d49a3'), 'GRE Score': '334', 'TOEFL Score': '114'}\n",
      "{'_id': ObjectId('5e74c0f1b6e0ce74542d49a4'), 'GRE Score': '332', 'TOEFL Score': '116'}\n",
      "{'_id': ObjectId('5e74c0f1b6e0ce74542d49a5'), 'GRE Score': '321', 'TOEFL Score': '112'}\n",
      "{'_id': ObjectId('5e74c0f1b6e0ce74542d49a6'), 'GRE Score': '324', 'TOEFL Score': '105'}\n",
      "{'_id': ObjectId('5e74c0f1b6e0ce74542d49a7'), 'GRE Score': '326', 'TOEFL Score': '108'}\n",
      "{'_id': ObjectId('5e74c0f1b6e0ce74542d49a8'), 'GRE Score': '', 'TOEFL Score': '109'}\n",
      "{'_id': ObjectId('5e74c0f1b6e0ce74542d49a9'), 'GRE Score': '315', 'TOEFL Score': '105'}\n",
      "{'_id': ObjectId('5e74c0f1b6e0ce74542d49aa'), 'GRE Score': '309', 'TOEFL Score': '104'}\n",
      "{'_id': ObjectId('5e74c0f1b6e0ce74542d49ab'), 'GRE Score': '306', 'TOEFL Score': '106'}\n",
      "{'_id': ObjectId('5e74c0f1b6e0ce74542d49ac'), 'GRE Score': '297', 'TOEFL Score': '100'}\n",
      "{'_id': ObjectId('5e74c0f1b6e0ce74542d49ad'), 'GRE Score': '315', 'TOEFL Score': '103'}\n",
      "{'_id': ObjectId('5e74c0f1b6e0ce74542d49ae'), 'GRE Score': '298', 'TOEFL Score': '99'}\n",
      "{'_id': ObjectId('5e74c0f1b6e0ce74542d49af'), 'GRE Score': '318', 'TOEFL Score': '109'}\n",
      "{'_id': ObjectId('5e74c0f1b6e0ce74542d49b0'), 'GRE Score': '317', 'TOEFL Score': '105'}\n",
      "{'_id': ObjectId('5e74c0f1b6e0ce74542d49b1'), 'GRE Score': '329', 'TOEFL Score': '111'}\n",
      "{'_id': ObjectId('5e74c0f1b6e0ce74542d49b2'), 'GRE Score': '322', 'TOEFL Score': '110'}\n",
      "{'_id': ObjectId('5e74c0f1b6e0ce74542d49b3'), 'GRE Score': '302', 'TOEFL Score': '102'}\n",
      "{'_id': ObjectId('5e74c0f1b6e0ce74542d49b4'), 'GRE Score': '313', 'TOEFL Score': '102'}\n",
      "{'_id': ObjectId('5e74c0f1b6e0ce74542d49b5'), 'GRE Score': '293', 'TOEFL Score': '97'}\n",
      "{'_id': ObjectId('5e74c0f1b6e0ce74542d49b6'), 'GRE Score': '311', 'TOEFL Score': '99'}\n",
      "{'_id': ObjectId('5e74c0f1b6e0ce74542d49b7'), 'GRE Score': '312', 'TOEFL Score': '101'}\n",
      "{'_id': ObjectId('5e74c0f1b6e0ce74542d49b8'), 'GRE Score': '334', 'TOEFL Score': '117'}\n",
      "{'_id': ObjectId('5e74c0f1b6e0ce74542d49b9'), 'GRE Score': '322', 'TOEFL Score': ''}\n",
      "{'_id': ObjectId('5e74c0f1b6e0ce74542d49ba'), 'GRE Score': '323', 'TOEFL Score': '113'}\n",
      "{'_id': ObjectId('5e74c0f1b6e0ce74542d49bb'), 'GRE Score': '321', 'TOEFL Score': '111'}\n",
      "{'_id': ObjectId('5e74c0f1b6e0ce74542d49bc'), 'GRE Score': '320', 'TOEFL Score': '111'}\n",
      "{'_id': ObjectId('5e74c0f1b6e0ce74542d49bd'), 'GRE Score': '329', 'TOEFL Score': '119'}\n",
      "{'_id': ObjectId('5e74c0f1b6e0ce74542d49be'), 'GRE Score': '319', 'TOEFL Score': '110'}\n",
      "{'_id': ObjectId('5e74c0f1b6e0ce74542d49bf'), 'GRE Score': '309', 'TOEFL Score': '108'}\n",
      "{'_id': ObjectId('5e74c0f1b6e0ce74542d49c0'), 'GRE Score': '307', 'TOEFL Score': '102'}\n",
      "{'_id': ObjectId('5e74c0f1b6e0ce74542d49c1'), 'GRE Score': '300', 'TOEFL Score': '104'}\n",
      "{'_id': ObjectId('5e74c0f1b6e0ce74542d49c2'), 'GRE Score': '305', 'TOEFL Score': '107'}\n",
      "{'_id': ObjectId('5e74c0f1b6e0ce74542d49c3'), 'GRE Score': '', 'TOEFL Score': '100'}\n",
      "{'_id': ObjectId('5e74c0f1b6e0ce74542d49c4'), 'GRE Score': '314', 'TOEFL Score': '110'}\n",
      "{'_id': ObjectId('5e74c0f1b6e0ce74542d49c5'), 'GRE Score': '316', 'TOEFL Score': '106'}\n",
      "{'_id': ObjectId('5e74c0f1b6e0ce74542d49c6'), 'GRE Score': '327', 'TOEFL Score': '113'}\n",
      "{'_id': ObjectId('5e74c0f1b6e0ce74542d49c7'), 'GRE Score': '317', 'TOEFL Score': '107'}\n",
      "{'_id': ObjectId('5e74c0f1b6e0ce74542d49c8'), 'GRE Score': '335', 'TOEFL Score': '118'}\n",
      "{'_id': ObjectId('5e74c0f1b6e0ce74542d49c9'), 'GRE Score': '331', 'TOEFL Score': '115'}\n",
      "{'_id': ObjectId('5e74c0f1b6e0ce74542d49ca'), 'GRE Score': '324', 'TOEFL Score': '112'}\n",
      "{'_id': ObjectId('5e74c0f1b6e0ce74542d49cb'), 'GRE Score': '324', 'TOEFL Score': '111'}\n",
      "{'_id': ObjectId('5e74c0f1b6e0ce74542d49cc'), 'GRE Score': '323', 'TOEFL Score': '110'}\n",
      "{'_id': ObjectId('5e74c0f1b6e0ce74542d49cd'), 'GRE Score': '322', 'TOEFL Score': '114'}\n",
      "{'_id': ObjectId('5e74c0f1b6e0ce74542d49ce'), 'GRE Score': '336', 'TOEFL Score': '118'}\n",
      "{'_id': ObjectId('5e74c0f1b6e0ce74542d49cf'), 'GRE Score': '316', 'TOEFL Score': '109'}\n",
      "{'_id': ObjectId('5e74c0f1b6e0ce74542d49d0'), 'GRE Score': '307', 'TOEFL Score': '107'}\n",
      "{'_id': ObjectId('5e74c0f1b6e0ce74542d49d1'), 'GRE Score': '306', 'TOEFL Score': '105'}\n",
      "{'_id': ObjectId('5e74c0f1b6e0ce74542d49d2'), 'GRE Score': '310', 'TOEFL Score': '106'}\n",
      "{'_id': ObjectId('5e74c0f1b6e0ce74542d49d3'), 'GRE Score': '311', 'TOEFL Score': '104'}\n",
      "{'_id': ObjectId('5e74c0f1b6e0ce74542d49d4'), 'GRE Score': '313', 'TOEFL Score': '107'}\n",
      "{'_id': ObjectId('5e74c0f1b6e0ce74542d49d5'), 'GRE Score': '317', 'TOEFL Score': '103'}\n",
      "{'_id': ObjectId('5e74c0f1b6e0ce74542d49d6'), 'GRE Score': '315', 'TOEFL Score': '110'}\n",
      "{'_id': ObjectId('5e74c0f1b6e0ce74542d49d7'), 'GRE Score': '340', 'TOEFL Score': '120'}\n",
      "{'_id': ObjectId('5e74c0f1b6e0ce74542d49d8'), 'GRE Score': '334', 'TOEFL Score': '120'}\n",
      "{'_id': ObjectId('5e74c0f1b6e0ce74542d49d9'), 'GRE Score': '298', 'TOEFL Score': '105'}\n",
      "{'_id': ObjectId('5e74c0f1b6e0ce74542d49da'), 'GRE Score': '295', 'TOEFL Score': '99'}\n",
      "{'_id': ObjectId('5e74c0f1b6e0ce74542d49db'), 'GRE Score': '315', 'TOEFL Score': '99'}\n",
      "{'_id': ObjectId('5e74c0f1b6e0ce74542d49dc'), 'GRE Score': '310', 'TOEFL Score': '102'}\n",
      "{'_id': ObjectId('5e74c0f1b6e0ce74542d49dd'), 'GRE Score': '305', 'TOEFL Score': '106'}\n",
      "{'_id': ObjectId('5e74c0f1b6e0ce74542d49de'), 'GRE Score': '301', 'TOEFL Score': '104'}\n",
      "{'_id': ObjectId('5e74c0f1b6e0ce74542d49df'), 'GRE Score': '325', 'TOEFL Score': '108'}\n",
      "{'_id': ObjectId('5e74c0f1b6e0ce74542d49e0'), 'GRE Score': '328', 'TOEFL Score': '110'}\n",
      "{'_id': ObjectId('5e74c0f1b6e0ce74542d49e1'), 'GRE Score': '338', 'TOEFL Score': '120'}\n",
      "{'_id': ObjectId('5e74c0f1b6e0ce74542d49e2'), 'GRE Score': '333', 'TOEFL Score': '119'}\n",
      "{'_id': ObjectId('5e74c0f1b6e0ce74542d49e3'), 'GRE Score': '331', 'TOEFL Score': '117'}\n",
      "{'_id': ObjectId('5e74c0f1b6e0ce74542d49e4'), 'GRE Score': '330', 'TOEFL Score': '116'}\n",
      "{'_id': ObjectId('5e74c0f1b6e0ce74542d49e5'), 'GRE Score': '322', 'TOEFL Score': ''}\n",
      "{'_id': ObjectId('5e74c0f1b6e0ce74542d49e6'), 'GRE Score': '321', 'TOEFL Score': '109'}\n",
      "{'_id': ObjectId('5e74c0f1b6e0ce74542d49e7'), 'GRE Score': '', 'TOEFL Score': '110'}\n",
      "{'_id': ObjectId('5e74c0f1b6e0ce74542d49e8'), 'GRE Score': '312', 'TOEFL Score': '104'}\n",
      "{'_id': ObjectId('5e74c0f1b6e0ce74542d49e9'), 'GRE Score': '313', 'TOEFL Score': '103'}\n",
      "{'_id': ObjectId('5e74c0f1b6e0ce74542d49ea'), 'GRE Score': '316', 'TOEFL Score': '110'}\n",
      "{'_id': ObjectId('5e74c0f1b6e0ce74542d49eb'), 'GRE Score': '324', 'TOEFL Score': '113'}\n",
      "{'_id': ObjectId('5e74c0f1b6e0ce74542d49ec'), 'GRE Score': '308', 'TOEFL Score': '109'}\n",
      "{'_id': ObjectId('5e74c0f1b6e0ce74542d49ed'), 'GRE Score': '305', 'TOEFL Score': '105'}\n",
      "{'_id': ObjectId('5e74c0f1b6e0ce74542d49ee'), 'GRE Score': '296', 'TOEFL Score': '99'}\n",
      "{'_id': ObjectId('5e74c0f1b6e0ce74542d49ef'), 'GRE Score': '306', 'TOEFL Score': '110'}\n",
      "{'_id': ObjectId('5e74c0f1b6e0ce74542d49f0'), 'GRE Score': '312', 'TOEFL Score': '110'}\n",
      "{'_id': ObjectId('5e74c0f1b6e0ce74542d49f1'), 'GRE Score': '318', 'TOEFL Score': '112'}\n",
      "{'_id': ObjectId('5e74c0f1b6e0ce74542d49f2'), 'GRE Score': '324', 'TOEFL Score': '111'}\n",
      "{'_id': ObjectId('5e74c0f1b6e0ce74542d49f3'), 'GRE Score': '313', 'TOEFL Score': '104'}\n",
      "{'_id': ObjectId('5e74c0f1b6e0ce74542d49f4'), 'GRE Score': '319', 'TOEFL Score': '106'}\n",
      "{'_id': ObjectId('5e74c0f1b6e0ce74542d49f5'), 'GRE Score': '312', 'TOEFL Score': '107'}\n",
      "{'_id': ObjectId('5e74c0f1b6e0ce74542d49f6'), 'GRE Score': '304', 'TOEFL Score': '100'}\n",
      "{'_id': ObjectId('5e74c0f1b6e0ce74542d49f7'), 'GRE Score': '330', 'TOEFL Score': '113'}\n",
      "{'_id': ObjectId('5e74c0f1b6e0ce74542d49f8'), 'GRE Score': '326', 'TOEFL Score': '111'}\n",
      "{'_id': ObjectId('5e74c0f1b6e0ce74542d49f9'), 'GRE Score': '325', 'TOEFL Score': '112'}\n",
      "{'_id': ObjectId('5e74c0f1b6e0ce74542d49fa'), 'GRE Score': '329', 'TOEFL Score': '114'}\n",
      "{'_id': ObjectId('5e74c0f1b6e0ce74542d49fb'), 'GRE Score': '310', 'TOEFL Score': '104'}\n",
      "{'_id': ObjectId('5e74c0f1b6e0ce74542d49fc'), 'GRE Score': '299', 'TOEFL Score': '100'}\n",
      "{'_id': ObjectId('5e74c0f1b6e0ce74542d49fd'), 'GRE Score': '296', 'TOEFL Score': '101'}\n",
      "{'_id': ObjectId('5e74c0f1b6e0ce74542d49fe'), 'GRE Score': '317', 'TOEFL Score': '103'}\n",
      "{'_id': ObjectId('5e74c0f1b6e0ce74542d49ff'), 'GRE Score': '324', 'TOEFL Score': '115'}\n",
      "{'_id': ObjectId('5e74c0f1b6e0ce74542d4a00'), 'GRE Score': '325', 'TOEFL Score': '114'}\n",
      "{'_id': ObjectId('5e74c0f1b6e0ce74542d4a01'), 'GRE Score': '314', 'TOEFL Score': '107'}\n",
      "{'_id': ObjectId('5e74c0f1b6e0ce74542d4a02'), 'GRE Score': '328', 'TOEFL Score': '110'}\n",
      "{'_id': ObjectId('5e74c0f1b6e0ce74542d4a03'), 'GRE Score': '316', 'TOEFL Score': '105'}\n",
      "{'_id': ObjectId('5e74c0f1b6e0ce74542d4a04'), 'GRE Score': '311', 'TOEFL Score': '104'}\n",
      "{'_id': ObjectId('5e74c0f1b6e0ce74542d4a05'), 'GRE Score': '324', 'TOEFL Score': '110'}\n",
      "{'_id': ObjectId('5e74c0f1b6e0ce74542d4a06'), 'GRE Score': '321', 'TOEFL Score': '111'}\n",
      "{'_id': ObjectId('5e74c0f1b6e0ce74542d4a07'), 'GRE Score': '320', 'TOEFL Score': '104'}\n",
      "{'_id': ObjectId('5e74c0f1b6e0ce74542d4a08'), 'GRE Score': '316', 'TOEFL Score': '99'}\n",
      "{'_id': ObjectId('5e74c0f1b6e0ce74542d4a09'), 'GRE Score': '318', 'TOEFL Score': '100'}\n",
      "{'_id': ObjectId('5e74c0f1b6e0ce74542d4a0a'), 'GRE Score': '335', 'TOEFL Score': '115'}\n",
      "{'_id': ObjectId('5e74c0f1b6e0ce74542d4a0b'), 'GRE Score': '321', 'TOEFL Score': '114'}\n",
      "{'_id': ObjectId('5e74c0f1b6e0ce74542d4a0c'), 'GRE Score': '307', 'TOEFL Score': '110'}\n",
      "{'_id': ObjectId('5e74c0f1b6e0ce74542d4a0d'), 'GRE Score': '309', 'TOEFL Score': '99'}\n",
      "{'_id': ObjectId('5e74c0f1b6e0ce74542d4a0e'), 'GRE Score': '324', 'TOEFL Score': '100'}\n",
      "{'_id': ObjectId('5e74c0f1b6e0ce74542d4a0f'), 'GRE Score': '326', 'TOEFL Score': '102'}\n",
      "{'_id': ObjectId('5e74c0f1b6e0ce74542d4a10'), 'GRE Score': '331', 'TOEFL Score': '119'}\n",
      "{'_id': ObjectId('5e74c0f1b6e0ce74542d4a11'), 'GRE Score': '327', 'TOEFL Score': '108'}\n",
      "{'_id': ObjectId('5e74c0f1b6e0ce74542d4a12'), 'GRE Score': '312', 'TOEFL Score': '104'}\n",
      "{'_id': ObjectId('5e74c0f1b6e0ce74542d4a13'), 'GRE Score': '308', 'TOEFL Score': '103'}\n",
      "{'_id': ObjectId('5e74c0f1b6e0ce74542d4a14'), 'GRE Score': '324', 'TOEFL Score': '111'}\n",
      "{'_id': ObjectId('5e74c0f1b6e0ce74542d4a15'), 'GRE Score': '325', 'TOEFL Score': '110'}\n",
      "{'_id': ObjectId('5e74c0f1b6e0ce74542d4a16'), 'GRE Score': '313', 'TOEFL Score': '102'}\n",
      "{'_id': ObjectId('5e74c0f1b6e0ce74542d4a17'), 'GRE Score': '312', 'TOEFL Score': '105'}\n",
      "{'_id': ObjectId('5e74c0f1b6e0ce74542d4a18'), 'GRE Score': '314', 'TOEFL Score': '107'}\n",
      "{'_id': ObjectId('5e74c0f1b6e0ce74542d4a19'), 'GRE Score': '327', 'TOEFL Score': '113'}\n",
      "{'_id': ObjectId('5e74c0f1b6e0ce74542d4a1a'), 'GRE Score': '308', 'TOEFL Score': ''}\n",
      "{'_id': ObjectId('5e74c0f1b6e0ce74542d4a1b'), 'GRE Score': '306', 'TOEFL Score': '105'}\n",
      "{'_id': ObjectId('5e74c0f1b6e0ce74542d4a1c'), 'GRE Score': '299', 'TOEFL Score': '96'}\n",
      "{'_id': ObjectId('5e74c0f1b6e0ce74542d4a1d'), 'GRE Score': '294', 'TOEFL Score': '95'}\n",
      "{'_id': ObjectId('5e74c0f1b6e0ce74542d4a1e'), 'GRE Score': '312', 'TOEFL Score': '99'}\n",
      "{'_id': ObjectId('5e74c0f1b6e0ce74542d4a1f'), 'GRE Score': '315', 'TOEFL Score': '100'}\n",
      "{'_id': ObjectId('5e74c0f1b6e0ce74542d4a20'), 'GRE Score': '322', 'TOEFL Score': '110'}\n",
      "{'_id': ObjectId('5e74c0f1b6e0ce74542d4a21'), 'GRE Score': '329', 'TOEFL Score': '113'}\n",
      "{'_id': ObjectId('5e74c0f1b6e0ce74542d4a22'), 'GRE Score': '320', 'TOEFL Score': '101'}\n",
      "{'_id': ObjectId('5e74c0f1b6e0ce74542d4a23'), 'GRE Score': '308', 'TOEFL Score': '103'}\n",
      "{'_id': ObjectId('5e74c0f1b6e0ce74542d4a24'), 'GRE Score': '', 'TOEFL Score': '102'}\n",
      "{'_id': ObjectId('5e74c0f1b6e0ce74542d4a25'), 'GRE Score': '311', 'TOEFL Score': '102'}\n",
      "{'_id': ObjectId('5e74c0f1b6e0ce74542d4a26'), 'GRE Score': '317', 'TOEFL Score': '110'}\n",
      "{'_id': ObjectId('5e74c0f1b6e0ce74542d4a27'), 'GRE Score': '312', 'TOEFL Score': '106'}\n",
      "{'_id': ObjectId('5e74c0f1b6e0ce74542d4a28'), 'GRE Score': '321', 'TOEFL Score': '111'}\n",
      "{'_id': ObjectId('5e74c0f1b6e0ce74542d4a29'), 'GRE Score': '340', 'TOEFL Score': '112'}\n",
      "{'_id': ObjectId('5e74c0f1b6e0ce74542d4a2a'), 'GRE Score': '331', 'TOEFL Score': '116'}\n",
      "{'_id': ObjectId('5e74c0f1b6e0ce74542d4a2b'), 'GRE Score': '336', 'TOEFL Score': '118'}\n",
      "{'_id': ObjectId('5e74c0f1b6e0ce74542d4a2c'), 'GRE Score': '324', 'TOEFL Score': '114'}\n",
      "{'_id': ObjectId('5e74c0f1b6e0ce74542d4a2d'), 'GRE Score': '314', 'TOEFL Score': '104'}\n",
      "{'_id': ObjectId('5e74c0f1b6e0ce74542d4a2e'), 'GRE Score': '313', 'TOEFL Score': '109'}\n",
      "{'_id': ObjectId('5e74c0f1b6e0ce74542d4a2f'), 'GRE Score': '307', 'TOEFL Score': '105'}\n",
      "{'_id': ObjectId('5e74c0f1b6e0ce74542d4a30'), 'GRE Score': '300', 'TOEFL Score': '102'}\n",
      "{'_id': ObjectId('5e74c0f1b6e0ce74542d4a31'), 'GRE Score': '302', 'TOEFL Score': '99'}\n",
      "{'_id': ObjectId('5e74c0f1b6e0ce74542d4a32'), 'GRE Score': '312', 'TOEFL Score': '98'}\n",
      "{'_id': ObjectId('5e74c0f1b6e0ce74542d4a33'), 'GRE Score': '316', 'TOEFL Score': '101'}\n",
      "{'_id': ObjectId('5e74c0f1b6e0ce74542d4a34'), 'GRE Score': '317', 'TOEFL Score': '100'}\n",
      "{'_id': ObjectId('5e74c0f1b6e0ce74542d4a35'), 'GRE Score': '310', 'TOEFL Score': '107'}\n",
      "{'_id': ObjectId('5e74c0f1b6e0ce74542d4a36'), 'GRE Score': '320', 'TOEFL Score': '120'}\n",
      "{'_id': ObjectId('5e74c0f1b6e0ce74542d4a37'), 'GRE Score': '330', 'TOEFL Score': '114'}\n",
      "{'_id': ObjectId('5e74c0f1b6e0ce74542d4a38'), 'GRE Score': '305', 'TOEFL Score': '112'}\n",
      "{'_id': ObjectId('5e74c0f1b6e0ce74542d4a39'), 'GRE Score': '309', 'TOEFL Score': '106'}\n",
      "{'_id': ObjectId('5e74c0f1b6e0ce74542d4a3a'), 'GRE Score': '319', 'TOEFL Score': '108'}\n",
      "{'_id': ObjectId('5e74c0f1b6e0ce74542d4a3b'), 'GRE Score': '322', 'TOEFL Score': '105'}\n",
      "{'_id': ObjectId('5e74c0f1b6e0ce74542d4a3c'), 'GRE Score': '323', 'TOEFL Score': '107'}\n",
      "{'_id': ObjectId('5e74c0f1b6e0ce74542d4a3d'), 'GRE Score': '313', 'TOEFL Score': '106'}\n",
      "{'_id': ObjectId('5e74c0f1b6e0ce74542d4a3e'), 'GRE Score': '321', 'TOEFL Score': '109'}\n",
      "{'_id': ObjectId('5e74c0f1b6e0ce74542d4a3f'), 'GRE Score': '323', 'TOEFL Score': '110'}\n",
      "{'_id': ObjectId('5e74c0f1b6e0ce74542d4a40'), 'GRE Score': '325', 'TOEFL Score': '112'}\n",
      "{'_id': ObjectId('5e74c0f1b6e0ce74542d4a41'), 'GRE Score': '312', 'TOEFL Score': '108'}\n",
      "{'_id': ObjectId('5e74c0f1b6e0ce74542d4a42'), 'GRE Score': '308', 'TOEFL Score': ''}\n",
      "{'_id': ObjectId('5e74c0f1b6e0ce74542d4a43'), 'GRE Score': '320', 'TOEFL Score': '104'}\n",
      "{'_id': ObjectId('5e74c0f1b6e0ce74542d4a44'), 'GRE Score': '328', 'TOEFL Score': '108'}\n",
      "{'_id': ObjectId('5e74c0f1b6e0ce74542d4a45'), 'GRE Score': '311', 'TOEFL Score': '107'}\n",
      "{'_id': ObjectId('5e74c0f1b6e0ce74542d4a46'), 'GRE Score': '301', 'TOEFL Score': '100'}\n",
      "{'_id': ObjectId('5e74c0f1b6e0ce74542d4a47'), 'GRE Score': '305', 'TOEFL Score': '105'}\n",
      "{'_id': ObjectId('5e74c0f1b6e0ce74542d4a48'), 'GRE Score': '308', 'TOEFL Score': '104'}\n",
      "{'_id': ObjectId('5e74c0f1b6e0ce74542d4a49'), 'GRE Score': '298', 'TOEFL Score': '101'}\n",
      "{'_id': ObjectId('5e74c0f1b6e0ce74542d4a4a'), 'GRE Score': '300', 'TOEFL Score': '99'}\n",
      "{'_id': ObjectId('5e74c0f1b6e0ce74542d4a4b'), 'GRE Score': '324', 'TOEFL Score': '111'}\n",
      "{'_id': ObjectId('5e74c0f1b6e0ce74542d4a4c'), 'GRE Score': '327', 'TOEFL Score': '113'}\n",
      "{'_id': ObjectId('5e74c0f1b6e0ce74542d4a4d'), 'GRE Score': '317', 'TOEFL Score': '106'}\n",
      "{'_id': ObjectId('5e74c0f1b6e0ce74542d4a4e'), 'GRE Score': '323', 'TOEFL Score': '104'}\n",
      "{'_id': ObjectId('5e74c0f1b6e0ce74542d4a4f'), 'GRE Score': '314', 'TOEFL Score': '107'}\n",
      "{'_id': ObjectId('5e74c0f1b6e0ce74542d4a50'), 'GRE Score': '305', 'TOEFL Score': '102'}\n",
      "{'_id': ObjectId('5e74c0f1b6e0ce74542d4a51'), 'GRE Score': '315', 'TOEFL Score': '104'}\n",
      "{'_id': ObjectId('5e74c0f1b6e0ce74542d4a52'), 'GRE Score': '326', 'TOEFL Score': '116'}\n",
      "{'_id': ObjectId('5e74c0f1b6e0ce74542d4a53'), 'GRE Score': '299', 'TOEFL Score': '100'}\n",
      "{'_id': ObjectId('5e74c0f1b6e0ce74542d4a54'), 'GRE Score': '295', 'TOEFL Score': '101'}\n",
      "{'_id': ObjectId('5e74c0f1b6e0ce74542d4a55'), 'GRE Score': '324', 'TOEFL Score': '112'}\n",
      "{'_id': ObjectId('5e74c0f1b6e0ce74542d4a56'), 'GRE Score': '297', 'TOEFL Score': '96'}\n",
      "{'_id': ObjectId('5e74c0f1b6e0ce74542d4a57'), 'GRE Score': '327', 'TOEFL Score': '113'}\n",
      "{'_id': ObjectId('5e74c0f1b6e0ce74542d4a58'), 'GRE Score': '311', 'TOEFL Score': '105'}\n",
      "{'_id': ObjectId('5e74c0f1b6e0ce74542d4a59'), 'GRE Score': '308', 'TOEFL Score': '106'}\n",
      "{'_id': ObjectId('5e74c0f1b6e0ce74542d4a5a'), 'GRE Score': '319', 'TOEFL Score': '108'}\n",
      "{'_id': ObjectId('5e74c0f1b6e0ce74542d4a5b'), 'GRE Score': '312', 'TOEFL Score': '107'}\n",
      "{'_id': ObjectId('5e74c0f1b6e0ce74542d4a5c'), 'GRE Score': '325', 'TOEFL Score': '111'}\n",
      "{'_id': ObjectId('5e74c0f1b6e0ce74542d4a5d'), 'GRE Score': '319', 'TOEFL Score': '110'}\n",
      "{'_id': ObjectId('5e74c0f1b6e0ce74542d4a5e'), 'GRE Score': '332', 'TOEFL Score': '118'}\n",
      "{'_id': ObjectId('5e74c0f1b6e0ce74542d4a5f'), 'GRE Score': '', 'TOEFL Score': '108'}\n",
      "{'_id': ObjectId('5e74c0f1b6e0ce74542d4a60'), 'GRE Score': '324', 'TOEFL Score': '107'}\n",
      "{'_id': ObjectId('5e74c0f1b6e0ce74542d4a61'), 'GRE Score': '312', 'TOEFL Score': '107'}\n",
      "{'_id': ObjectId('5e74c0f1b6e0ce74542d4a62'), 'GRE Score': '326', 'TOEFL Score': '110'}\n",
      "{'_id': ObjectId('5e74c0f1b6e0ce74542d4a63'), 'GRE Score': '308', 'TOEFL Score': '106'}\n",
      "{'_id': ObjectId('5e74c0f1b6e0ce74542d4a64'), 'GRE Score': '305', 'TOEFL Score': '103'}\n",
      "{'_id': ObjectId('5e74c0f1b6e0ce74542d4a65'), 'GRE Score': '295', 'TOEFL Score': '96'}\n",
      "{'_id': ObjectId('5e74c0f1b6e0ce74542d4a66'), 'GRE Score': '316', 'TOEFL Score': '98'}\n",
      "{'_id': ObjectId('5e74c0f1b6e0ce74542d4a67'), 'GRE Score': '304', 'TOEFL Score': '97'}\n",
      "{'_id': ObjectId('5e74c0f1b6e0ce74542d4a68'), 'GRE Score': '299', 'TOEFL Score': '94'}\n",
      "{'_id': ObjectId('5e74c0f1b6e0ce74542d4a69'), 'GRE Score': '302', 'TOEFL Score': '99'}\n",
      "{'_id': ObjectId('5e74c0f1b6e0ce74542d4a6a'), 'GRE Score': '313', 'TOEFL Score': '101'}\n",
      "{'_id': ObjectId('5e74c0f1b6e0ce74542d4a6b'), 'GRE Score': '318', 'TOEFL Score': '107'}\n",
      "{'_id': ObjectId('5e74c0f1b6e0ce74542d4a6c'), 'GRE Score': '325', 'TOEFL Score': '110'}\n",
      "{'_id': ObjectId('5e74c0f1b6e0ce74542d4a6d'), 'GRE Score': '303', 'TOEFL Score': '100'}\n",
      "{'_id': ObjectId('5e74c0f1b6e0ce74542d4a6e'), 'GRE Score': '300', 'TOEFL Score': '102'}\n",
      "{'_id': ObjectId('5e74c0f1b6e0ce74542d4a6f'), 'GRE Score': '297', 'TOEFL Score': '98'}\n",
      "{'_id': ObjectId('5e74c0f1b6e0ce74542d4a70'), 'GRE Score': '317', 'TOEFL Score': ''}\n",
      "{'_id': ObjectId('5e74c0f1b6e0ce74542d4a71'), 'GRE Score': '327', 'TOEFL Score': '109'}\n",
      "{'_id': ObjectId('5e74c0f1b6e0ce74542d4a72'), 'GRE Score': '301', 'TOEFL Score': '104'}\n",
      "{'_id': ObjectId('5e74c0f1b6e0ce74542d4a73'), 'GRE Score': '314', 'TOEFL Score': '105'}\n",
      "{'_id': ObjectId('5e74c0f1b6e0ce74542d4a74'), 'GRE Score': '321', 'TOEFL Score': '107'}\n",
      "{'_id': ObjectId('5e74c0f1b6e0ce74542d4a75'), 'GRE Score': '322', 'TOEFL Score': '110'}\n",
      "{'_id': ObjectId('5e74c0f1b6e0ce74542d4a76'), 'GRE Score': '334', 'TOEFL Score': '116'}\n",
      "{'_id': ObjectId('5e74c0f1b6e0ce74542d4a77'), 'GRE Score': '338', 'TOEFL Score': '115'}\n",
      "{'_id': ObjectId('5e74c0f1b6e0ce74542d4a78'), 'GRE Score': '306', 'TOEFL Score': '103'}\n",
      "{'_id': ObjectId('5e74c0f1b6e0ce74542d4a79'), 'GRE Score': '313', 'TOEFL Score': '102'}\n",
      "{'_id': ObjectId('5e74c0f1b6e0ce74542d4a7a'), 'GRE Score': '330', 'TOEFL Score': '114'}\n",
      "{'_id': ObjectId('5e74c0f1b6e0ce74542d4a7b'), 'GRE Score': '320', 'TOEFL Score': '104'}\n",
      "{'_id': ObjectId('5e74c0f1b6e0ce74542d4a7c'), 'GRE Score': '311', 'TOEFL Score': '98'}\n",
      "{'_id': ObjectId('5e74c0f1b6e0ce74542d4a7d'), 'GRE Score': '298', 'TOEFL Score': '92'}\n",
      "{'_id': ObjectId('5e74c0f1b6e0ce74542d4a7e'), 'GRE Score': '301', 'TOEFL Score': '98'}\n",
      "{'_id': ObjectId('5e74c0f1b6e0ce74542d4a7f'), 'GRE Score': '310', 'TOEFL Score': '103'}\n",
      "{'_id': ObjectId('5e74c0f1b6e0ce74542d4a80'), 'GRE Score': '324', 'TOEFL Score': '110'}\n",
      "{'_id': ObjectId('5e74c0f1b6e0ce74542d4a81'), 'GRE Score': '336', 'TOEFL Score': '119'}\n",
      "{'_id': ObjectId('5e74c0f1b6e0ce74542d4a82'), 'GRE Score': '321', 'TOEFL Score': '109'}\n",
      "{'_id': ObjectId('5e74c0f1b6e0ce74542d4a83'), 'GRE Score': '315', 'TOEFL Score': '105'}\n",
      "{'_id': ObjectId('5e74c0f1b6e0ce74542d4a84'), 'GRE Score': '304', 'TOEFL Score': '101'}\n",
      "{'_id': ObjectId('5e74c0f1b6e0ce74542d4a85'), 'GRE Score': '297', 'TOEFL Score': '96'}\n",
      "{'_id': ObjectId('5e74c0f1b6e0ce74542d4a86'), 'GRE Score': '290', 'TOEFL Score': '100'}\n",
      "{'_id': ObjectId('5e74c0f1b6e0ce74542d4a87'), 'GRE Score': '303', 'TOEFL Score': '98'}\n",
      "{'_id': ObjectId('5e74c0f1b6e0ce74542d4a88'), 'GRE Score': '311', 'TOEFL Score': '99'}\n",
      "{'_id': ObjectId('5e74c0f1b6e0ce74542d4a89'), 'GRE Score': '322', 'TOEFL Score': '104'}\n",
      "{'_id': ObjectId('5e74c0f1b6e0ce74542d4a8a'), 'GRE Score': '319', 'TOEFL Score': '105'}\n",
      "{'_id': ObjectId('5e74c0f1b6e0ce74542d4a8b'), 'GRE Score': '324', 'TOEFL Score': '110'}\n",
      "{'_id': ObjectId('5e74c0f1b6e0ce74542d4a8c'), 'GRE Score': '300', 'TOEFL Score': '100'}\n",
      "{'_id': ObjectId('5e74c0f1b6e0ce74542d4a8d'), 'GRE Score': '340', 'TOEFL Score': '113'}\n",
      "{'_id': ObjectId('5e74c0f1b6e0ce74542d4a8e'), 'GRE Score': '335', 'TOEFL Score': '117'}\n",
      "{'_id': ObjectId('5e74c0f1b6e0ce74542d4a8f'), 'GRE Score': '302', 'TOEFL Score': '101'}\n",
      "{'_id': ObjectId('5e74c0f1b6e0ce74542d4a90'), 'GRE Score': '307', 'TOEFL Score': '105'}\n",
      "{'_id': ObjectId('5e74c0f1b6e0ce74542d4a91'), 'GRE Score': '296', 'TOEFL Score': '97'}\n",
      "{'_id': ObjectId('5e74c0f1b6e0ce74542d4a92'), 'GRE Score': '320', 'TOEFL Score': '108'}\n",
      "{'_id': ObjectId('5e74c0f1b6e0ce74542d4a93'), 'GRE Score': '314', 'TOEFL Score': '102'}\n",
      "{'_id': ObjectId('5e74c0f1b6e0ce74542d4a94'), 'GRE Score': '318', 'TOEFL Score': '106'}\n",
      "{'_id': ObjectId('5e74c0f1b6e0ce74542d4a95'), 'GRE Score': '326', 'TOEFL Score': '112'}\n",
      "{'_id': ObjectId('5e74c0f1b6e0ce74542d4a96'), 'GRE Score': '317', 'TOEFL Score': '104'}\n",
      "{'_id': ObjectId('5e74c0f1b6e0ce74542d4a97'), 'GRE Score': '329', 'TOEFL Score': '111'}\n",
      "{'_id': ObjectId('5e74c0f1b6e0ce74542d4a98'), 'GRE Score': '324', 'TOEFL Score': '110'}\n",
      "{'_id': ObjectId('5e74c0f1b6e0ce74542d4a99'), 'GRE Score': '325', 'TOEFL Score': '107'}\n",
      "{'_id': ObjectId('5e74c0f1b6e0ce74542d4a9a'), 'GRE Score': '330', 'TOEFL Score': '116'}\n",
      "{'_id': ObjectId('5e74c0f1b6e0ce74542d4a9b'), 'GRE Score': '312', 'TOEFL Score': '103'}\n",
      "{'_id': ObjectId('5e74c0f1b6e0ce74542d4a9c'), 'GRE Score': '333', 'TOEFL Score': '117'}\n",
      "{'_id': ObjectId('5e74c0f1b6e0ce74542d4a9d'), 'GRE Score': '304', 'TOEFL Score': '100'}\n",
      "{'_id': ObjectId('5e74c0f1b6e0ce74542d4a9e'), 'GRE Score': '315', 'TOEFL Score': '105'}\n",
      "{'_id': ObjectId('5e74c0f1b6e0ce74542d4a9f'), 'GRE Score': '324', 'TOEFL Score': '109'}\n",
      "{'_id': ObjectId('5e74c0f1b6e0ce74542d4aa0'), 'GRE Score': '330', 'TOEFL Score': '116'}\n",
      "{'_id': ObjectId('5e74c0f1b6e0ce74542d4aa1'), 'GRE Score': '311', 'TOEFL Score': '101'}\n",
      "{'_id': ObjectId('5e74c0f1b6e0ce74542d4aa2'), 'GRE Score': '302', 'TOEFL Score': '99'}\n",
      "{'_id': ObjectId('5e74c0f1b6e0ce74542d4aa3'), 'GRE Score': '322', 'TOEFL Score': '103'}\n",
      "{'_id': ObjectId('5e74c0f1b6e0ce74542d4aa4'), 'GRE Score': '298', 'TOEFL Score': '100'}\n",
      "{'_id': ObjectId('5e74c0f1b6e0ce74542d4aa5'), 'GRE Score': '297', 'TOEFL Score': '101'}\n",
      "{'_id': ObjectId('5e74c0f1b6e0ce74542d4aa6'), 'GRE Score': '300', 'TOEFL Score': '98'}\n",
      "{'_id': ObjectId('5e74c0f1b6e0ce74542d4aa7'), 'GRE Score': '301', 'TOEFL Score': '96'}\n",
      "{'_id': ObjectId('5e74c0f1b6e0ce74542d4aa8'), 'GRE Score': '313', 'TOEFL Score': '94'}\n",
      "{'_id': ObjectId('5e74c0f1b6e0ce74542d4aa9'), 'GRE Score': '314', 'TOEFL Score': '102'}\n",
      "{'_id': ObjectId('5e74c0f1b6e0ce74542d4aaa'), 'GRE Score': '317', 'TOEFL Score': '101'}\n",
      "{'_id': ObjectId('5e74c0f1b6e0ce74542d4aab'), 'GRE Score': '321', 'TOEFL Score': '110'}\n",
      "{'_id': ObjectId('5e74c0f1b6e0ce74542d4aac'), 'GRE Score': '327', 'TOEFL Score': ''}\n",
      "{'_id': ObjectId('5e74c0f1b6e0ce74542d4aad'), 'GRE Score': '315', 'TOEFL Score': '104'}\n",
      "{'_id': ObjectId('5e74c0f1b6e0ce74542d4aae'), 'GRE Score': '316', 'TOEFL Score': '103'}\n",
      "{'_id': ObjectId('5e74c0f1b6e0ce74542d4aaf'), 'GRE Score': '', 'TOEFL Score': '111'}\n",
      "{'_id': ObjectId('5e74c0f1b6e0ce74542d4ab0'), 'GRE Score': '308', 'TOEFL Score': '102'}\n",
      "{'_id': ObjectId('5e74c0f1b6e0ce74542d4ab1'), 'GRE Score': '299', 'TOEFL Score': '100'}\n",
      "{'_id': ObjectId('5e74c0f1b6e0ce74542d4ab2'), 'GRE Score': '321', 'TOEFL Score': '112'}\n",
      "{'_id': ObjectId('5e74c0f1b6e0ce74542d4ab3'), 'GRE Score': '322', 'TOEFL Score': '112'}\n",
      "{'_id': ObjectId('5e74c0f1b6e0ce74542d4ab4'), 'GRE Score': '334', 'TOEFL Score': '119'}\n",
      "{'_id': ObjectId('5e74c0f1b6e0ce74542d4ab5'), 'GRE Score': '325', 'TOEFL Score': '114'}\n",
      "{'_id': ObjectId('5e74c0f1b6e0ce74542d4ab6'), 'GRE Score': '323', 'TOEFL Score': '111'}\n",
      "{'_id': ObjectId('5e74c0f1b6e0ce74542d4ab7'), 'GRE Score': '312', 'TOEFL Score': '106'}\n",
      "{'_id': ObjectId('5e74c0f1b6e0ce74542d4ab8'), 'GRE Score': '310', 'TOEFL Score': '101'}\n",
      "{'_id': ObjectId('5e74c0f1b6e0ce74542d4ab9'), 'GRE Score': '316', 'TOEFL Score': '103'}\n",
      "{'_id': ObjectId('5e74c0f1b6e0ce74542d4aba'), 'GRE Score': '340', 'TOEFL Score': '115'}\n",
      "{'_id': ObjectId('5e74c0f1b6e0ce74542d4abb'), 'GRE Score': '311', 'TOEFL Score': '104'}\n",
      "{'_id': ObjectId('5e74c0f1b6e0ce74542d4abc'), 'GRE Score': '320', 'TOEFL Score': '112'}\n",
      "{'_id': ObjectId('5e74c0f1b6e0ce74542d4abd'), 'GRE Score': '324', 'TOEFL Score': '112'}\n",
      "{'_id': ObjectId('5e74c0f1b6e0ce74542d4abe'), 'GRE Score': '316', 'TOEFL Score': '111'}\n",
      "{'_id': ObjectId('5e74c0f1b6e0ce74542d4abf'), 'GRE Score': '306', 'TOEFL Score': '103'}\n",
      "{'_id': ObjectId('5e74c0f1b6e0ce74542d4ac0'), 'GRE Score': '309', 'TOEFL Score': '105'}\n",
      "{'_id': ObjectId('5e74c0f1b6e0ce74542d4ac1'), 'GRE Score': '310', 'TOEFL Score': '110'}\n",
      "{'_id': ObjectId('5e74c0f1b6e0ce74542d4ac2'), 'GRE Score': '317', 'TOEFL Score': '106'}\n",
      "{'_id': ObjectId('5e74c0f1b6e0ce74542d4ac3'), 'GRE Score': '318', 'TOEFL Score': '110'}\n",
      "{'_id': ObjectId('5e74c0f1b6e0ce74542d4ac4'), 'GRE Score': '312', 'TOEFL Score': '105'}\n",
      "{'_id': ObjectId('5e74c0f1b6e0ce74542d4ac5'), 'GRE Score': '305', 'TOEFL Score': '104'}\n",
      "{'_id': ObjectId('5e74c0f1b6e0ce74542d4ac6'), 'GRE Score': '332', 'TOEFL Score': '112'}\n",
      "{'_id': ObjectId('5e74c0f1b6e0ce74542d4ac7'), 'GRE Score': '331', 'TOEFL Score': '116'}\n",
      "{'_id': ObjectId('5e74c0f1b6e0ce74542d4ac8'), 'GRE Score': '321', 'TOEFL Score': '114'}\n",
      "{'_id': ObjectId('5e74c0f1b6e0ce74542d4ac9'), 'GRE Score': '324', 'TOEFL Score': '113'}\n",
      "{'_id': ObjectId('5e74c0f1b6e0ce74542d4aca'), 'GRE Score': '328', 'TOEFL Score': '116'}\n",
      "{'_id': ObjectId('5e74c0f1b6e0ce74542d4acb'), 'GRE Score': '327', 'TOEFL Score': '118'}\n",
      "{'_id': ObjectId('5e74c0f1b6e0ce74542d4acc'), 'GRE Score': '320', 'TOEFL Score': '108'}\n",
      "{'_id': ObjectId('5e74c0f1b6e0ce74542d4acd'), 'GRE Score': '312', 'TOEFL Score': '109'}\n",
      "{'_id': ObjectId('5e74c0f1b6e0ce74542d4ace'), 'GRE Score': '315', 'TOEFL Score': '101'}\n",
      "{'_id': ObjectId('5e74c0f1b6e0ce74542d4acf'), 'GRE Score': '320', 'TOEFL Score': '112'}\n",
      "{'_id': ObjectId('5e74c0f1b6e0ce74542d4ad0'), 'GRE Score': '324', 'TOEFL Score': '113'}\n",
      "{'_id': ObjectId('5e74c0f1b6e0ce74542d4ad1'), 'GRE Score': '328', 'TOEFL Score': '116'}\n",
      "{'_id': ObjectId('5e74c0f1b6e0ce74542d4ad2'), 'GRE Score': '319', 'TOEFL Score': '103'}\n",
      "{'_id': ObjectId('5e74c0f1b6e0ce74542d4ad3'), 'GRE Score': '', 'TOEFL Score': '105'}\n",
      "{'_id': ObjectId('5e74c0f1b6e0ce74542d4ad4'), 'GRE Score': '305', 'TOEFL Score': '102'}\n",
      "{'_id': ObjectId('5e74c0f1b6e0ce74542d4ad5'), 'GRE Score': '299', 'TOEFL Score': '100'}\n",
      "{'_id': ObjectId('5e74c0f1b6e0ce74542d4ad6'), 'GRE Score': '295', 'TOEFL Score': '99'}\n",
      "{'_id': ObjectId('5e74c0f1b6e0ce74542d4ad7'), 'GRE Score': '312', 'TOEFL Score': '100'}\n",
      "{'_id': ObjectId('5e74c0f1b6e0ce74542d4ad8'), 'GRE Score': '329', 'TOEFL Score': '113'}\n",
      "{'_id': ObjectId('5e74c0f1b6e0ce74542d4ad9'), 'GRE Score': '319', 'TOEFL Score': '105'}\n",
      "{'_id': ObjectId('5e74c0f1b6e0ce74542d4ada'), 'GRE Score': '301', 'TOEFL Score': '102'}\n",
      "{'_id': ObjectId('5e74c0f1b6e0ce74542d4adb'), 'GRE Score': '307', 'TOEFL Score': '105'}\n",
      "{'_id': ObjectId('5e74c0f1b6e0ce74542d4adc'), 'GRE Score': '304', 'TOEFL Score': '107'}\n",
      "{'_id': ObjectId('5e74c0f1b6e0ce74542d4add'), 'GRE Score': '298', 'TOEFL Score': '97'}\n",
      "{'_id': ObjectId('5e74c0f1b6e0ce74542d4ade'), 'GRE Score': '305', 'TOEFL Score': '96'}\n",
      "{'_id': ObjectId('5e74c0f1b6e0ce74542d4adf'), 'GRE Score': '314', 'TOEFL Score': '99'}\n",
      "{'_id': ObjectId('5e74c0f1b6e0ce74542d4ae0'), 'GRE Score': '318', 'TOEFL Score': '101'}\n",
      "{'_id': ObjectId('5e74c0f1b6e0ce74542d4ae1'), 'GRE Score': '323', 'TOEFL Score': '110'}\n",
      "{'_id': ObjectId('5e74c0f1b6e0ce74542d4ae2'), 'GRE Score': '326', 'TOEFL Score': '114'}\n",
      "{'_id': ObjectId('5e74c0f1b6e0ce74542d4ae3'), 'GRE Score': '320', 'TOEFL Score': '110'}\n",
      "{'_id': ObjectId('5e74c0f1b6e0ce74542d4ae4'), 'GRE Score': '311', 'TOEFL Score': '103'}\n",
      "{'_id': ObjectId('5e74c0f1b6e0ce74542d4ae5'), 'GRE Score': '327', 'TOEFL Score': '116'}\n",
      "{'_id': ObjectId('5e74c0f1b6e0ce74542d4ae6'), 'GRE Score': '316', 'TOEFL Score': '102'}\n",
      "{'_id': ObjectId('5e74c0f1b6e0ce74542d4ae7'), 'GRE Score': '308', 'TOEFL Score': '105'}\n",
      "{'_id': ObjectId('5e74c0f1b6e0ce74542d4ae8'), 'GRE Score': '300', 'TOEFL Score': '101'}\n",
      "{'_id': ObjectId('5e74c0f1b6e0ce74542d4ae9'), 'GRE Score': '304', 'TOEFL Score': '104'}\n",
      "{'_id': ObjectId('5e74c0f1b6e0ce74542d4aea'), 'GRE Score': '309', 'TOEFL Score': '105'}\n",
      "{'_id': ObjectId('5e74c0f1b6e0ce74542d4aeb'), 'GRE Score': '318', 'TOEFL Score': '103'}\n",
      "{'_id': ObjectId('5e74c0f1b6e0ce74542d4aec'), 'GRE Score': '325', 'TOEFL Score': '110'}\n",
      "{'_id': ObjectId('5e74c0f1b6e0ce74542d4aed'), 'GRE Score': '321', 'TOEFL Score': '102'}\n",
      "{'_id': ObjectId('5e74c0f1b6e0ce74542d4aee'), 'GRE Score': '323', 'TOEFL Score': '107'}\n",
      "{'_id': ObjectId('5e74c0f1b6e0ce74542d4aef'), 'GRE Score': '328', 'TOEFL Score': '113'}\n",
      "{'_id': ObjectId('5e74c0f1b6e0ce74542d4af0'), 'GRE Score': '304', 'TOEFL Score': '103'}\n",
      "{'_id': ObjectId('5e74c0f1b6e0ce74542d4af1'), 'GRE Score': '317', 'TOEFL Score': '106'}\n",
      "{'_id': ObjectId('5e74c0f1b6e0ce74542d4af2'), 'GRE Score': '311', 'TOEFL Score': ''}\n",
      "{'_id': ObjectId('5e74c0f1b6e0ce74542d4af3'), 'GRE Score': '319', 'TOEFL Score': '102'}\n",
      "{'_id': ObjectId('5e74c0f1b6e0ce74542d4af4'), 'GRE Score': '327', 'TOEFL Score': '115'}\n",
      "{'_id': ObjectId('5e74c0f1b6e0ce74542d4af5'), 'GRE Score': '322', 'TOEFL Score': '112'}\n",
      "{'_id': ObjectId('5e74c0f1b6e0ce74542d4af6'), 'GRE Score': '', 'TOEFL Score': '110'}\n",
      "{'_id': ObjectId('5e74c0f1b6e0ce74542d4af7'), 'GRE Score': '307', 'TOEFL Score': '105'}\n",
      "{'_id': ObjectId('5e74c0f1b6e0ce74542d4af8'), 'GRE Score': '297', 'TOEFL Score': '99'}\n",
      "{'_id': ObjectId('5e74c0f1b6e0ce74542d4af9'), 'GRE Score': '298', 'TOEFL Score': '101'}\n",
      "{'_id': ObjectId('5e74c0f1b6e0ce74542d4afa'), 'GRE Score': '300', 'TOEFL Score': '95'}\n",
      "{'_id': ObjectId('5e74c0f1b6e0ce74542d4afb'), 'GRE Score': '301', 'TOEFL Score': '99'}\n",
      "{'_id': ObjectId('5e74c0f1b6e0ce74542d4afc'), 'GRE Score': '332', 'TOEFL Score': '108'}\n",
      "{'_id': ObjectId('5e74c0f1b6e0ce74542d4afd'), 'GRE Score': '337', 'TOEFL Score': '117'}\n",
      "{'_id': ObjectId('5e74c0f1b6e0ce74542d4afe'), 'GRE Score': '330', 'TOEFL Score': '120'}\n",
      "{'_id': ObjectId('5e74c0f1b6e0ce74542d4aff'), 'GRE Score': '312', 'TOEFL Score': '103'}\n",
      "{'_id': ObjectId('5e74c0f1b6e0ce74542d4b00'), 'GRE Score': '327', 'TOEFL Score': '113'}\n",
      "{'_id': ObjectId('5e74c0f1b6e0ce74542d4b01'), 'GRE Score': None, 'TOEFL Score': None}\n",
      "{'_id': ObjectId('5e74c521e95ed88943f59441'), 'GRE Score': '337', 'TOEFL Score': '118'}\n",
      "{'_id': ObjectId('5e74c53ee95ed88943f59442'), 'GRE Score': '337', 'TOEFL Score': '118'}\n",
      "{'_id': ObjectId('5e74d705e95ed88943f59443'), 'GRE Score': '337', 'TOEFL Score': '118'}\n",
      "{'_id': ObjectId('5e74d705e95ed88943f59444'), 'GRE Score': '336', 'TOEFL Score': '118'}\n",
      "{'_id': ObjectId('5e74d705e95ed88943f59445'), 'GRE Score': '337', 'TOEFL Score': '118'}\n",
      "{'_id': ObjectId('5e74d705e95ed88943f59446'), 'GRE Score': '334', 'TOEFL Score': '119'}\n",
      "{'_id': ObjectId('5e74d705e95ed88943f59447'), 'GRE Score': '337', 'TOEFL Score': '118'}\n"
     ]
    }
   ],
   "source": [
    "# retrieveing some columns\n",
    "result_some= collection.find({}, {'GRE Score','TOEFL Score'}) # retrieveing two columns\n",
    "# The second parameter in find() specifies which columns to choose\n",
    "for res in result_some:\n",
    "    print(res)"
   ]
  },
  {
   "cell_type": "code",
   "execution_count": 36,
   "metadata": {},
   "outputs": [
    {
     "name": "stdout",
     "output_type": "stream",
     "text": [
      "{'_id': ObjectId('5e74c0f1b6e0ce74542d490d'), 'Serial No': '1', 'GRE Score': '337', 'TOEFL Score': '118', 'University Rating': '4', 'SOP': '4.5', 'LOR': '4.5', 'CGPA': '9.65', 'Research': '1', 'Chance of Admit': '0.92'}\n",
      "{'_id': ObjectId('5e74c0f1b6e0ce74542d4afd'), 'Serial No': '497', 'GRE Score': '337', 'TOEFL Score': '117', 'University Rating': '5', 'SOP': '5', 'LOR': '5', 'CGPA': '9.87', 'Research': '1', 'Chance of Admit': '0.96'}\n",
      "{'_id': ObjectId('5e74c521e95ed88943f59441'), 'Serial No': '9999', 'GRE Score': '337', 'TOEFL Score': '118', 'University Rating': '4', 'SOP': '4.5', 'LOR': '4.5', 'CGPA': '9.65', 'Research': '1', 'Chance of Admit': '0.92'}\n",
      "{'_id': ObjectId('5e74c53ee95ed88943f59442'), 'Serial No': '9998', 'GRE Score': '337', 'TOEFL Score': '118', 'University Rating': '4', 'SOP': '4.5', 'LOR': '4.5', 'CGPA': '9.65', 'Research': '1', 'Chance of Admit': '0.92'}\n",
      "{'_id': ObjectId('5e74d705e95ed88943f59443'), 'Serial No': '9997', 'GRE Score': '337', 'TOEFL Score': '118', 'University Rating': '4', 'SOP': '4.5', 'LOR': '4.5', 'CGPA': '9.65', 'Research': '1', 'Chance of Admit': '0.92'}\n",
      "{'_id': ObjectId('5e74d705e95ed88943f59445'), 'Serial No': '9995', 'GRE Score': '337', 'TOEFL Score': '118', 'University Rating': '4', 'SOP': '4.5', 'LOR': '4.5', 'CGPA': '9.5', 'Research': '1', 'Chance of Admit': '0.92'}\n",
      "{'_id': ObjectId('5e74d705e95ed88943f59447'), 'Serial No': '9993', 'GRE Score': '337', 'TOEFL Score': '118', 'University Rating': '4', 'SOP': '4.5', 'LOR': '4.5', 'CGPA': '9.65', 'Research': '1', 'Chance of Admit': '0.92'}\n"
     ]
    }
   ],
   "source": [
    "# finding the rows satisfying a given criteria\n",
    "my_db_query={'GRE Score':'337'}\n",
    "# printing all the rows where GRE Score is 337\n",
    "result_GRE= collection.find(my_db_query)\n",
    "for res in result_GRE:\n",
    "    print(res)"
   ]
  },
  {
   "cell_type": "code",
   "execution_count": 41,
   "metadata": {},
   "outputs": [
    {
     "name": "stdout",
     "output_type": "stream",
     "text": [
      "{'_id': ObjectId('5e74c0f1b6e0ce74542d4926'), 'Serial No': '26', 'GRE Score': '340', 'TOEFL Score': '120', 'University Rating': '5', 'SOP': '4.5', 'LOR': '4.5', 'CGPA': '9.6', 'Research': '1', 'Chance of Admit': '0.94'}\n",
      "{'_id': ObjectId('5e74c0f1b6e0ce74542d492d'), 'Serial No': '33', 'GRE Score': '338', 'TOEFL Score': '118', 'University Rating': '4', 'SOP': '3', 'LOR': '4.5', 'CGPA': '9.4', 'Research': '1', 'Chance of Admit': '0.91'}\n",
      "{'_id': ObjectId('5e74c0f1b6e0ce74542d492e'), 'Serial No': '34', 'GRE Score': '340', 'TOEFL Score': '114', 'University Rating': '5', 'SOP': '4', 'LOR': '4', 'CGPA': '9.6', 'Research': '1', 'Chance of Admit': '0.9'}\n",
      "{'_id': ObjectId('5e74c0f1b6e0ce74542d493c'), 'Serial No': '48', 'GRE Score': '339', 'TOEFL Score': '119', 'University Rating': '5', 'SOP': '4.5', 'LOR': '4', 'CGPA': '9.7', 'Research': '0', 'Chance of Admit': '0.89'}\n",
      "{'_id': ObjectId('5e74c0f1b6e0ce74542d495e'), 'Serial No': '82', 'GRE Score': '340', 'TOEFL Score': '120', 'University Rating': '4', 'SOP': '5', 'LOR': '5', 'CGPA': '9.5', 'Research': '1', 'Chance of Admit': '0.96'}\n",
      "{'_id': ObjectId('5e74c0f1b6e0ce74542d4961'), 'Serial No': '85', 'GRE Score': '340', 'TOEFL Score': '115', 'University Rating': '5', 'SOP': '4.5', 'LOR': '4.5', 'CGPA': '9.45', 'Research': '1', 'Chance of Admit': '0.94'}\n",
      "{'_id': ObjectId('5e74c0f1b6e0ce74542d4978'), 'Serial No': '108', 'GRE Score': '338', 'TOEFL Score': '117', 'University Rating': '4', 'SOP': '3.5', 'LOR': '4.5', 'CGPA': '9.46', 'Research': '1', 'Chance of Admit': '0.91'}\n",
      "{'_id': ObjectId('5e74c0f1b6e0ce74542d498f'), 'Serial No': '131', 'GRE Score': '339', 'TOEFL Score': '114', 'University Rating': '5', 'SOP': '4', 'LOR': '4.5', 'CGPA': '9.76', 'Research': '1', 'Chance of Admit': '0.96'}\n",
      "{'_id': ObjectId('5e74c0f1b6e0ce74542d499c'), 'Serial No': '144', 'GRE Score': '340', 'TOEFL Score': '120', 'University Rating': '4', 'SOP': '4.5', 'LOR': '4', 'CGPA': '9.92', 'Research': '1', 'Chance of Admit': '0.97'}\n",
      "{'_id': ObjectId('5e74c0f1b6e0ce74542d49a1'), 'Serial No': '149', 'GRE Score': '339', 'TOEFL Score': '116', 'University Rating': '4', 'SOP': '4', 'LOR': '3.5', 'CGPA': '9.8', 'Research': '1', 'Chance of Admit': '0.96'}\n",
      "{'_id': ObjectId('5e74c0f1b6e0ce74542d49d7'), 'Serial No': '203', 'GRE Score': '340', 'TOEFL Score': '120', 'University Rating': '5', 'SOP': '4.5', 'LOR': '4.5', 'CGPA': '9.91', 'Research': '1', 'Chance of Admit': '0.97'}\n",
      "{'_id': ObjectId('5e74c0f1b6e0ce74542d49e1'), 'Serial No': '213', 'GRE Score': '338', 'TOEFL Score': '120', 'University Rating': '4', 'SOP': '5', 'LOR': '5', 'CGPA': '9.66', 'Research': '1', 'Chance of Admit': '0.95'}\n",
      "{'_id': ObjectId('5e74c0f1b6e0ce74542d4a29'), 'Serial No': '285', 'GRE Score': '340', 'TOEFL Score': '112', 'University Rating': '4', 'SOP': '5', 'LOR': '4.5', 'CGPA': '9.66', 'Research': '1', 'Chance of Admit': '0.94'}\n",
      "{'_id': ObjectId('5e74c0f1b6e0ce74542d4a77'), 'Serial No': '363', 'GRE Score': '338', 'TOEFL Score': '115', 'University Rating': '5', 'SOP': '4.5', 'LOR': '5', 'CGPA': '9.23', 'Research': '1', 'Chance of Admit': '0.91'}\n",
      "{'_id': ObjectId('5e74c0f1b6e0ce74542d4a8d'), 'Serial No': '385', 'GRE Score': '340', 'TOEFL Score': '113', 'University Rating': '4', 'SOP': '5', 'LOR': '5', 'CGPA': '9.74', 'Research': '1', 'Chance of Admit': '0.96'}\n",
      "{'_id': ObjectId('5e74c0f1b6e0ce74542d4aba'), 'Serial No': '430', 'GRE Score': '340', 'TOEFL Score': '115', 'University Rating': '5', 'SOP': '5', 'LOR': '4.5', 'CGPA': '9.06', 'Research': '1', 'Chance of Admit': '0.95'}\n"
     ]
    }
   ],
   "source": [
    "my_db_query={'GRE Score':{'$gt':'337'}}\n",
    "# printing all the rows where GRE Score is greaterthan 330\n",
    "result_GRE= collection.find(my_db_query)\n",
    "for res in result_GRE:\n",
    "    print(res)"
   ]
  },
  {
   "cell_type": "code",
   "execution_count": 42,
   "metadata": {},
   "outputs": [
    {
     "name": "stdout",
     "output_type": "stream",
     "text": [
      "{'_id': ObjectId('5e74c0f1b6e0ce74542d492d'), 'Serial No': '33', 'GRE Score': '338', 'TOEFL Score': '118', 'University Rating': '4', 'SOP': '3', 'LOR': '4.5', 'CGPA': '9.4', 'Research': '1', 'Chance of Admit': '0.91'}\n",
      "{'_id': ObjectId('5e74c0f1b6e0ce74542d4978'), 'Serial No': '108', 'GRE Score': '338', 'TOEFL Score': '117', 'University Rating': '4', 'SOP': '3.5', 'LOR': '4.5', 'CGPA': '9.46', 'Research': '1', 'Chance of Admit': '0.91'}\n",
      "{'_id': ObjectId('5e74c0f1b6e0ce74542d49e1'), 'Serial No': '213', 'GRE Score': '338', 'TOEFL Score': '120', 'University Rating': '4', 'SOP': '5', 'LOR': '5', 'CGPA': '9.66', 'Research': '1', 'Chance of Admit': '0.95'}\n",
      "{'_id': ObjectId('5e74c0f1b6e0ce74542d4a77'), 'Serial No': '363', 'GRE Score': '338', 'TOEFL Score': '115', 'University Rating': '5', 'SOP': '4.5', 'LOR': '5', 'CGPA': '9.23', 'Research': '1', 'Chance of Admit': '0.91'}\n",
      "{'_id': ObjectId('5e74c0f1b6e0ce74542d493c'), 'Serial No': '48', 'GRE Score': '339', 'TOEFL Score': '119', 'University Rating': '5', 'SOP': '4.5', 'LOR': '4', 'CGPA': '9.7', 'Research': '0', 'Chance of Admit': '0.89'}\n",
      "{'_id': ObjectId('5e74c0f1b6e0ce74542d498f'), 'Serial No': '131', 'GRE Score': '339', 'TOEFL Score': '114', 'University Rating': '5', 'SOP': '4', 'LOR': '4.5', 'CGPA': '9.76', 'Research': '1', 'Chance of Admit': '0.96'}\n",
      "{'_id': ObjectId('5e74c0f1b6e0ce74542d49a1'), 'Serial No': '149', 'GRE Score': '339', 'TOEFL Score': '116', 'University Rating': '4', 'SOP': '4', 'LOR': '3.5', 'CGPA': '9.8', 'Research': '1', 'Chance of Admit': '0.96'}\n",
      "{'_id': ObjectId('5e74c0f1b6e0ce74542d4926'), 'Serial No': '26', 'GRE Score': '340', 'TOEFL Score': '120', 'University Rating': '5', 'SOP': '4.5', 'LOR': '4.5', 'CGPA': '9.6', 'Research': '1', 'Chance of Admit': '0.94'}\n",
      "{'_id': ObjectId('5e74c0f1b6e0ce74542d492e'), 'Serial No': '34', 'GRE Score': '340', 'TOEFL Score': '114', 'University Rating': '5', 'SOP': '4', 'LOR': '4', 'CGPA': '9.6', 'Research': '1', 'Chance of Admit': '0.9'}\n",
      "{'_id': ObjectId('5e74c0f1b6e0ce74542d495e'), 'Serial No': '82', 'GRE Score': '340', 'TOEFL Score': '120', 'University Rating': '4', 'SOP': '5', 'LOR': '5', 'CGPA': '9.5', 'Research': '1', 'Chance of Admit': '0.96'}\n",
      "{'_id': ObjectId('5e74c0f1b6e0ce74542d4961'), 'Serial No': '85', 'GRE Score': '340', 'TOEFL Score': '115', 'University Rating': '5', 'SOP': '4.5', 'LOR': '4.5', 'CGPA': '9.45', 'Research': '1', 'Chance of Admit': '0.94'}\n",
      "{'_id': ObjectId('5e74c0f1b6e0ce74542d499c'), 'Serial No': '144', 'GRE Score': '340', 'TOEFL Score': '120', 'University Rating': '4', 'SOP': '4.5', 'LOR': '4', 'CGPA': '9.92', 'Research': '1', 'Chance of Admit': '0.97'}\n",
      "{'_id': ObjectId('5e74c0f1b6e0ce74542d49d7'), 'Serial No': '203', 'GRE Score': '340', 'TOEFL Score': '120', 'University Rating': '5', 'SOP': '4.5', 'LOR': '4.5', 'CGPA': '9.91', 'Research': '1', 'Chance of Admit': '0.97'}\n",
      "{'_id': ObjectId('5e74c0f1b6e0ce74542d4a29'), 'Serial No': '285', 'GRE Score': '340', 'TOEFL Score': '112', 'University Rating': '4', 'SOP': '5', 'LOR': '4.5', 'CGPA': '9.66', 'Research': '1', 'Chance of Admit': '0.94'}\n",
      "{'_id': ObjectId('5e74c0f1b6e0ce74542d4a8d'), 'Serial No': '385', 'GRE Score': '340', 'TOEFL Score': '113', 'University Rating': '4', 'SOP': '5', 'LOR': '5', 'CGPA': '9.74', 'Research': '1', 'Chance of Admit': '0.96'}\n",
      "{'_id': ObjectId('5e74c0f1b6e0ce74542d4aba'), 'Serial No': '430', 'GRE Score': '340', 'TOEFL Score': '115', 'University Rating': '5', 'SOP': '5', 'LOR': '4.5', 'CGPA': '9.06', 'Research': '1', 'Chance of Admit': '0.95'}\n"
     ]
    }
   ],
   "source": [
    "# we can sort the above results as well, this has been sorted in ascending order\n",
    "\n",
    "result_GRE= collection.find(my_db_query).sort('GRE Score')\n",
    "for res in result_GRE:\n",
    "    print(res)"
   ]
  },
  {
   "cell_type": "code",
   "execution_count": 43,
   "metadata": {},
   "outputs": [
    {
     "name": "stdout",
     "output_type": "stream",
     "text": [
      "{'_id': ObjectId('5e74c0f1b6e0ce74542d4926'), 'Serial No': '26', 'GRE Score': '340', 'TOEFL Score': '120', 'University Rating': '5', 'SOP': '4.5', 'LOR': '4.5', 'CGPA': '9.6', 'Research': '1', 'Chance of Admit': '0.94'}\n",
      "{'_id': ObjectId('5e74c0f1b6e0ce74542d492e'), 'Serial No': '34', 'GRE Score': '340', 'TOEFL Score': '114', 'University Rating': '5', 'SOP': '4', 'LOR': '4', 'CGPA': '9.6', 'Research': '1', 'Chance of Admit': '0.9'}\n",
      "{'_id': ObjectId('5e74c0f1b6e0ce74542d495e'), 'Serial No': '82', 'GRE Score': '340', 'TOEFL Score': '120', 'University Rating': '4', 'SOP': '5', 'LOR': '5', 'CGPA': '9.5', 'Research': '1', 'Chance of Admit': '0.96'}\n",
      "{'_id': ObjectId('5e74c0f1b6e0ce74542d4961'), 'Serial No': '85', 'GRE Score': '340', 'TOEFL Score': '115', 'University Rating': '5', 'SOP': '4.5', 'LOR': '4.5', 'CGPA': '9.45', 'Research': '1', 'Chance of Admit': '0.94'}\n",
      "{'_id': ObjectId('5e74c0f1b6e0ce74542d499c'), 'Serial No': '144', 'GRE Score': '340', 'TOEFL Score': '120', 'University Rating': '4', 'SOP': '4.5', 'LOR': '4', 'CGPA': '9.92', 'Research': '1', 'Chance of Admit': '0.97'}\n",
      "{'_id': ObjectId('5e74c0f1b6e0ce74542d49d7'), 'Serial No': '203', 'GRE Score': '340', 'TOEFL Score': '120', 'University Rating': '5', 'SOP': '4.5', 'LOR': '4.5', 'CGPA': '9.91', 'Research': '1', 'Chance of Admit': '0.97'}\n",
      "{'_id': ObjectId('5e74c0f1b6e0ce74542d4a29'), 'Serial No': '285', 'GRE Score': '340', 'TOEFL Score': '112', 'University Rating': '4', 'SOP': '5', 'LOR': '4.5', 'CGPA': '9.66', 'Research': '1', 'Chance of Admit': '0.94'}\n",
      "{'_id': ObjectId('5e74c0f1b6e0ce74542d4a8d'), 'Serial No': '385', 'GRE Score': '340', 'TOEFL Score': '113', 'University Rating': '4', 'SOP': '5', 'LOR': '5', 'CGPA': '9.74', 'Research': '1', 'Chance of Admit': '0.96'}\n",
      "{'_id': ObjectId('5e74c0f1b6e0ce74542d4aba'), 'Serial No': '430', 'GRE Score': '340', 'TOEFL Score': '115', 'University Rating': '5', 'SOP': '5', 'LOR': '4.5', 'CGPA': '9.06', 'Research': '1', 'Chance of Admit': '0.95'}\n",
      "{'_id': ObjectId('5e74c0f1b6e0ce74542d493c'), 'Serial No': '48', 'GRE Score': '339', 'TOEFL Score': '119', 'University Rating': '5', 'SOP': '4.5', 'LOR': '4', 'CGPA': '9.7', 'Research': '0', 'Chance of Admit': '0.89'}\n",
      "{'_id': ObjectId('5e74c0f1b6e0ce74542d498f'), 'Serial No': '131', 'GRE Score': '339', 'TOEFL Score': '114', 'University Rating': '5', 'SOP': '4', 'LOR': '4.5', 'CGPA': '9.76', 'Research': '1', 'Chance of Admit': '0.96'}\n",
      "{'_id': ObjectId('5e74c0f1b6e0ce74542d49a1'), 'Serial No': '149', 'GRE Score': '339', 'TOEFL Score': '116', 'University Rating': '4', 'SOP': '4', 'LOR': '3.5', 'CGPA': '9.8', 'Research': '1', 'Chance of Admit': '0.96'}\n",
      "{'_id': ObjectId('5e74c0f1b6e0ce74542d492d'), 'Serial No': '33', 'GRE Score': '338', 'TOEFL Score': '118', 'University Rating': '4', 'SOP': '3', 'LOR': '4.5', 'CGPA': '9.4', 'Research': '1', 'Chance of Admit': '0.91'}\n",
      "{'_id': ObjectId('5e74c0f1b6e0ce74542d4978'), 'Serial No': '108', 'GRE Score': '338', 'TOEFL Score': '117', 'University Rating': '4', 'SOP': '3.5', 'LOR': '4.5', 'CGPA': '9.46', 'Research': '1', 'Chance of Admit': '0.91'}\n",
      "{'_id': ObjectId('5e74c0f1b6e0ce74542d49e1'), 'Serial No': '213', 'GRE Score': '338', 'TOEFL Score': '120', 'University Rating': '4', 'SOP': '5', 'LOR': '5', 'CGPA': '9.66', 'Research': '1', 'Chance of Admit': '0.95'}\n",
      "{'_id': ObjectId('5e74c0f1b6e0ce74542d4a77'), 'Serial No': '363', 'GRE Score': '338', 'TOEFL Score': '115', 'University Rating': '5', 'SOP': '4.5', 'LOR': '5', 'CGPA': '9.23', 'Research': '1', 'Chance of Admit': '0.91'}\n"
     ]
    }
   ],
   "source": [
    "# we can sort the above results in descending order\n",
    "\n",
    "result_GRE= collection.find(my_db_query).sort('GRE Score',-1)\n",
    "for res in result_GRE:\n",
    "    print(res)"
   ]
  },
  {
   "cell_type": "code",
   "execution_count": 44,
   "metadata": {},
   "outputs": [
    {
     "name": "stdout",
     "output_type": "stream",
     "text": [
      "1\n"
     ]
    }
   ],
   "source": [
    "# Deleting records from mongo DB:\n",
    "# finding the rows satisfying a given criteria\n",
    "my_db_query={'GRE Score':'337'}\n",
    "x=collection.delete_one(my_db_query) # the deletion step\n",
    "print(x.deleted_count)"
   ]
  },
  {
   "cell_type": "markdown",
   "metadata": {},
   "source": [
    "We have succesfully deleted one row/record from the collection.\n",
    "\n",
    "Similarly, for deleting multiple rows, we can use **collection.delete_many(my_deb_query)**\n",
    "\n",
    "For deleting all documents of a collection, we can use **collection.delete_many({})**"
   ]
  },
  {
   "cell_type": "code",
   "execution_count": 45,
   "metadata": {},
   "outputs": [],
   "source": [
    "# For dropping an entire collection\n",
    "collection_to_drop=db['test_collection'] # drops the entire collection named 'test collection'\n",
    "collection_to_drop.drop()"
   ]
  },
  {
   "cell_type": "code",
   "execution_count": 48,
   "metadata": {},
   "outputs": [
    {
     "name": "stdout",
     "output_type": "stream",
     "text": [
      "9\n"
     ]
    }
   ],
   "source": [
    "# updating the values present in collection\n",
    "\n",
    "update_criteria={'GRE Score':'340'}\n",
    "new_values= { \"$set\": { \"GRE Score\": \"350\" } }\n",
    "\n",
    "x = collection.update_many(update_criteria, new_values)\n",
    "\n",
    "print(x.modified_count)"
   ]
  },
  {
   "cell_type": "markdown",
   "metadata": {},
   "source": [
    "We have updated the nine columns with GRE Score 340 with GRE Score 350.\n",
    "\n",
    "Similarly, we can update only one row by using the function **update_one(update_criteria, new_values)**"
   ]
  },
  {
   "cell_type": "markdown",
   "metadata": {},
   "source": []
  },
  {
   "cell_type": "code",
   "execution_count": null,
   "metadata": {},
   "outputs": [],
   "source": []
  }
 ],
 "metadata": {
  "kernelspec": {
   "display_name": "Python 3",
   "language": "python",
   "name": "python3"
  },
  "language_info": {
   "codemirror_mode": {
    "name": "ipython",
    "version": 3
   },
   "file_extension": ".py",
   "mimetype": "text/x-python",
   "name": "python",
   "nbconvert_exporter": "python",
   "pygments_lexer": "ipython3",
   "version": "3.8.3"
  }
 },
 "nbformat": 4,
 "nbformat_minor": 2
}
