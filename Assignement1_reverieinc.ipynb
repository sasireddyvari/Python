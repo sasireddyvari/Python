{
  "nbformat": 4,
  "nbformat_minor": 0,
  "metadata": {
    "colab": {
      "name": "Assignement1_reverieinc.ipynb",
      "provenance": [],
      "collapsed_sections": [],
      "authorship_tag": "ABX9TyP2c9H+SNRQPIfZbSczVqnY",
      "include_colab_link": true
    },
    "kernelspec": {
      "name": "python3",
      "display_name": "Python 3"
    }
  },
  "cells": [
    {
      "cell_type": "markdown",
      "metadata": {
        "id": "view-in-github",
        "colab_type": "text"
      },
      "source": [
        "<a href=\"https://colab.research.google.com/github/sasireddyvari/Python/blob/master/Assignement1_reverieinc.ipynb\" target=\"_parent\"><img src=\"https://colab.research.google.com/assets/colab-badge.svg\" alt=\"Open In Colab\"/></a>"
      ]
    },
    {
      "cell_type": "code",
      "metadata": {
        "id": "KMUsXZDgdkdN",
        "outputId": "8800d564-607b-4ad2-c820-ca7fb6e8e757",
        "colab": {
          "base_uri": "https://localhost:8080/"
        }
      },
      "source": [
        "s='lkjaaaak'\n",
        "t='cdaab'\n",
        "r='aaabgd'\n",
        "temp=s+\" \"+t+\" \"+r\n",
        "lst=temp.split(' ')\n",
        "lst"
      ],
      "execution_count": 12,
      "outputs": [
        {
          "output_type": "execute_result",
          "data": {
            "text/plain": [
              "['lkjaaaak', 'cdaab', 'aaabgd']"
            ]
          },
          "metadata": {
            "tags": []
          },
          "execution_count": 12
        }
      ]
    },
    {
      "cell_type": "code",
      "metadata": {
        "id": "_H8ijf6edoTK"
      },
      "source": [
        "def findstem(arr):\n",
        "    n = len(arr)\n",
        "    s = arr[0]\n",
        "    l = len(s)\n",
        "    res = \"\"\n",
        "    for i in range(l):\n",
        "        for j in range(i + 1, l + 1):\n",
        "          stem = s[i:j]\n",
        "          #print(stem)\n",
        "          k = 1\n",
        "          for k in range(1, n):\n",
        "            #print(arr[k])\n",
        "            if stem not in arr[k]:\n",
        "              break\n",
        "          if (k + 1 == n and len(res) <= len(stem)):\n",
        "            res = stem\n",
        "    return res"
      ],
      "execution_count": 13,
      "outputs": []
    },
    {
      "cell_type": "code",
      "metadata": {
        "id": "HLM_nDUDdyBE",
        "outputId": "f4944bfb-c56c-4d39-b178-5836f8aa6c3d",
        "colab": {
          "base_uri": "https://localhost:8080/",
          "height": 35
        }
      },
      "source": [
        "findstem(lst)"
      ],
      "execution_count": 14,
      "outputs": [
        {
          "output_type": "execute_result",
          "data": {
            "application/vnd.google.colaboratory.intrinsic+json": {
              "type": "string"
            },
            "text/plain": [
              "'aa'"
            ]
          },
          "metadata": {
            "tags": []
          },
          "execution_count": 14
        }
      ]
    },
    {
      "cell_type": "code",
      "metadata": {
        "id": "syIDK5WKdznb"
      },
      "source": [
        ""
      ],
      "execution_count": null,
      "outputs": []
    }
  ]
}