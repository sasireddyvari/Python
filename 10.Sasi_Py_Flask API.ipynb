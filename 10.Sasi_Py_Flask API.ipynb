{
 "cells": [
  {
   "cell_type": "markdown",
   "metadata": {},
   "source": [
    "# Flask API :"
   ]
  },
  {
   "cell_type": "markdown",
   "metadata": {},
   "source": [
    "# Environment --> Space --> Libraries"
   ]
  },
  {
   "cell_type": "code",
   "execution_count": 1,
   "metadata": {},
   "outputs": [
    {
     "name": "stdout",
     "output_type": "stream",
     "text": [
      "Requirement already satisfied: flask in c:\\users\\re20085166\\appdata\\local\\continuum\\anaconda3\\lib\\site-packages (1.0.2)\n",
      "Requirement already satisfied: click>=5.1 in c:\\users\\re20085166\\appdata\\local\\continuum\\anaconda3\\lib\\site-packages (from flask) (7.0)\n",
      "Requirement already satisfied: Werkzeug>=0.14 in c:\\users\\re20085166\\appdata\\local\\continuum\\anaconda3\\lib\\site-packages (from flask) (0.14.1)\n",
      "Requirement already satisfied: itsdangerous>=0.24 in c:\\users\\re20085166\\appdata\\local\\continuum\\anaconda3\\lib\\site-packages (from flask) (1.1.0)\n",
      "Requirement already satisfied: Jinja2>=2.10 in c:\\users\\re20085166\\appdata\\local\\continuum\\anaconda3\\lib\\site-packages (from flask) (2.10)\n",
      "Requirement already satisfied: MarkupSafe>=0.23 in c:\\users\\re20085166\\appdata\\local\\continuum\\anaconda3\\lib\\site-packages (from Jinja2>=2.10->flask) (1.1.1)\n",
      "Note: you may need to restart the kernel to use updated packages.\n"
     ]
    }
   ],
   "source": [
    "pip install flask"
   ]
  },
  {
   "cell_type": "code",
   "execution_count": 1,
   "metadata": {},
   "outputs": [],
   "source": [
    "from flask import Flask"
   ]
  },
  {
   "cell_type": "code",
   "execution_count": 2,
   "metadata": {},
   "outputs": [],
   "source": [
    "app=Flask(__name__)"
   ]
  },
  {
   "cell_type": "code",
   "execution_count": null,
   "metadata": {},
   "outputs": [],
   "source": [
    "if __name__=='__main__':\n",
    "    print('The app is working')\n",
    "    app.run()"
   ]
  },
  {
   "cell_type": "markdown",
   "metadata": {},
   "source": [
    "# Web Service for Calculator using Flask"
   ]
  },
  {
   "cell_type": "code",
   "execution_count": 1,
   "metadata": {},
   "outputs": [
    {
     "name": "stdout",
     "output_type": "stream",
     "text": [
      "The app_calc is running\n",
      " * Serving Flask app \"__main__\" (lazy loading)\n",
      " * Environment: production\n",
      "   WARNING: This is a development server. Do not use it in a production deployment.\n",
      "   Use a production WSGI server instead.\n",
      " * Debug mode: on\n"
     ]
    },
    {
     "name": "stderr",
     "output_type": "stream",
     "text": [
      " * Restarting with windowsapi reloader\n"
     ]
    },
    {
     "ename": "SystemExit",
     "evalue": "1",
     "output_type": "error",
     "traceback": [
      "An exception has occurred, use %tb to see the full traceback.\n",
      "\u001b[1;31mSystemExit\u001b[0m\u001b[1;31m:\u001b[0m 1\n"
     ]
    },
    {
     "name": "stderr",
     "output_type": "stream",
     "text": [
      "C:\\Users\\RE20085166\\Anaconda3\\lib\\site-packages\\IPython\\core\\interactiveshell.py:3351: UserWarning: To exit: use 'exit', 'quit', or Ctrl-D.\n",
      "  warn(\"To exit: use 'exit', 'quit', or Ctrl-D.\", stacklevel=1)\n"
     ]
    }
   ],
   "source": [
    "from flask import Flask, request, jsonify\n",
    "\n",
    "app_calc = Flask(__name__)\n",
    "\n",
    "@app_calc.route('/calc_postman', methods=['POST'])\n",
    "def math_calc_postman():\n",
    "    if request.method == ['POST']:\n",
    "        operation = request.json['operation']\n",
    "        num1 = request.json['num1']\n",
    "        num2 = request.json['num2']\n",
    "        try:\n",
    "            if operation == 'add':\n",
    "                r = num1 + num2\n",
    "                result = \"The sum of\" + str(num1) + \"&\" + str(num2) + \"is\" + str(r)\n",
    "            elif operation == 'sub':\n",
    "                r = num1 - num2\n",
    "                result = \"The sum of\" + str(num1) + \"&\" + str(num2) + \"is\" + str(r)\n",
    "            elif operation == 'div':\n",
    "                r = num1 / num2\n",
    "                result = \"The sum of\" + str(num1) + \"&\" + str(num2) + \"is\" + str(r)\n",
    "            elif operation == 'mul':\n",
    "                r = num1 * num2\n",
    "                result = \"The sum of\" + str(num1) + \"&\" + str(num2) + \"is\" + str(r)\n",
    "            else:\n",
    "                result = \"Please specify a valid operation\"\n",
    "            return jsonify(result)\n",
    "        except Exception as e:\n",
    "            result = \"An exception (\" + str(e) + \") occurred\"\n",
    "            return jsonify(result)\n",
    "\n",
    "\n",
    "if __name__ == '__main__':\n",
    "    print(\"The app_calc is running\")\n",
    "    app_calc.run(debug=True)\n"
   ]
  },
  {
   "cell_type": "code",
   "execution_count": 1,
   "metadata": {},
   "outputs": [],
   "source": [
    "# pip freeze"
   ]
  },
  {
   "cell_type": "code",
   "execution_count": 2,
   "metadata": {},
   "outputs": [],
   "source": [
    "# pip freeze > requirements.txt"
   ]
  },
  {
   "cell_type": "code",
   "execution_count": null,
   "metadata": {},
   "outputs": [],
   "source": []
  }
 ],
 "metadata": {
  "kernelspec": {
   "display_name": "Python 3",
   "language": "python",
   "name": "python3"
  },
  "language_info": {
   "codemirror_mode": {
    "name": "ipython",
    "version": 3
   },
   "file_extension": ".py",
   "mimetype": "text/x-python",
   "name": "python",
   "nbconvert_exporter": "python",
   "pygments_lexer": "ipython3",
   "version": "3.8.3"
  }
 },
 "nbformat": 4,
 "nbformat_minor": 2
}
