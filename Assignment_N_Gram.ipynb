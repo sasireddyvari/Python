{
  "nbformat": 4,
  "nbformat_minor": 0,
  "metadata": {
    "colab": {
      "name": "Assignment_N Gram.ipynb",
      "provenance": [],
      "collapsed_sections": [],
      "authorship_tag": "ABX9TyOYgTM7zVnTdIJH19nZq2gM",
      "include_colab_link": true
    },
    "kernelspec": {
      "name": "python3",
      "display_name": "Python 3"
    }
  },
  "cells": [
    {
      "cell_type": "markdown",
      "metadata": {
        "id": "view-in-github",
        "colab_type": "text"
      },
      "source": [
        "<a href=\"https://colab.research.google.com/github/sasireddyvari/Python/blob/master/Assignment_N_Gram.ipynb\" target=\"_parent\"><img src=\"https://colab.research.google.com/assets/colab-badge.svg\" alt=\"Open In Colab\"/></a>"
      ]
    },
    {
      "cell_type": "code",
      "metadata": {
        "id": "e_BcZHKb-50S"
      },
      "source": [
        "st='The English Wikipedia is the English-language edition of the free online encyclopedia Wikipedia. Founded on 15 January 2001, it is the first edition of Wikipedia and, as of April 2019, has the most articles of any edition.[2] As of October 2020, 11% of articles in all Wikipedias belong to the English-language edition. This share has gradually declined from more than 50 percent in 2003, due to the growth of Wikipedias in other languages.[3] As of 29 October 2020'"
      ],
      "execution_count": 6,
      "outputs": []
    },
    {
      "cell_type": "code",
      "metadata": {
        "id": "SJsnYU2x_Mvf"
      },
      "source": [
        "new_str = string.replace(st,new[])"
      ],
      "execution_count": 5,
      "outputs": []
    },
    {
      "cell_type": "code",
      "metadata": {
        "id": "r57KSVFmAkaX",
        "outputId": "2c23e391-39ac-4a1d-b75a-6eb5dde5a836",
        "colab": {
          "base_uri": "https://localhost:8080/",
          "height": 69
        }
      },
      "source": [
        "import re\n",
        "new_str=re.sub('[^a-zA-Z0-9 \\n\\.]', ' ', st)\n",
        "new_str"
      ],
      "execution_count": 9,
      "outputs": [
        {
          "output_type": "execute_result",
          "data": {
            "application/vnd.google.colaboratory.intrinsic+json": {
              "type": "string"
            },
            "text/plain": [
              "'The English Wikipedia is the English language edition of the free online encyclopedia Wikipedia. Founded on 15 January 2001  it is the first edition of Wikipedia and  as of April 2019  has the most articles of any edition. 2  As of October 2020  11  of articles in all Wikipedias belong to the English language edition. This share has gradually declined from more than 50 percent in 2003  due to the growth of Wikipedias in other languages. 3  As of 29 October 2020'"
            ]
          },
          "metadata": {
            "tags": []
          },
          "execution_count": 9
        }
      ]
    },
    {
      "cell_type": "code",
      "metadata": {
        "id": "Acuk8bYaBwE1"
      },
      "source": [
        "import string\n",
        "chars = re.escape(string.punctuation)\n",
        "Final_Chars=re.sub(r'['+chars+']', '',new_str)"
      ],
      "execution_count": 15,
      "outputs": []
    },
    {
      "cell_type": "code",
      "metadata": {
        "id": "dIohzGtXCu-6",
        "outputId": "e6714539-101f-4b90-df2d-aa6bce226bee",
        "colab": {
          "base_uri": "https://localhost:8080/",
          "height": 69
        }
      },
      "source": [
        "Final_Chars"
      ],
      "execution_count": 16,
      "outputs": [
        {
          "output_type": "execute_result",
          "data": {
            "application/vnd.google.colaboratory.intrinsic+json": {
              "type": "string"
            },
            "text/plain": [
              "'The English Wikipedia is the English language edition of the free online encyclopedia Wikipedia Founded on 15 January 2001  it is the first edition of Wikipedia and  as of April 2019  has the most articles of any edition 2  As of October 2020  11  of articles in all Wikipedias belong to the English language edition This share has gradually declined from more than 50 percent in 2003  due to the growth of Wikipedias in other languages 3  As of 29 October 2020'"
            ]
          },
          "metadata": {
            "tags": []
          },
          "execution_count": 16
        }
      ]
    },
    {
      "cell_type": "code",
      "metadata": {
        "id": "Jra-Tt1lEQ2O",
        "outputId": "fe0cd973-29ba-4a57-ac72-39bff2925b0f",
        "colab": {
          "base_uri": "https://localhost:8080/"
        }
      },
      "source": [
        "len(Final_Chars)"
      ],
      "execution_count": 17,
      "outputs": [
        {
          "output_type": "execute_result",
          "data": {
            "text/plain": [
              "461"
            ]
          },
          "metadata": {
            "tags": []
          },
          "execution_count": 17
        }
      ]
    },
    {
      "cell_type": "code",
      "metadata": {
        "id": "IGo_ia6rWJfA",
        "outputId": "a4c0f8c7-e89f-4d5f-c963-494010e4699f",
        "colab": {
          "base_uri": "https://localhost:8080/",
          "height": 69
        }
      },
      "source": [
        "Final_Text=Final_Chars.lower()\n",
        "Final_Text"
      ],
      "execution_count": 50,
      "outputs": [
        {
          "output_type": "execute_result",
          "data": {
            "application/vnd.google.colaboratory.intrinsic+json": {
              "type": "string"
            },
            "text/plain": [
              "'the english wikipedia is the english language edition of the free online encyclopedia wikipedia founded on 15 january 2001  it is the first edition of wikipedia and  as of april 2019  has the most articles of any edition 2  as of october 2020  11  of articles in all wikipedias belong to the english language edition this share has gradually declined from more than 50 percent in 2003  due to the growth of wikipedias in other languages 3  as of 29 october 2020'"
            ]
          },
          "metadata": {
            "tags": []
          },
          "execution_count": 50
        }
      ]
    },
    {
      "cell_type": "code",
      "metadata": {
        "id": "lyTo4gb3WWC5",
        "outputId": "a17c13fa-0a92-4f1b-978c-b7e97ad5cee8",
        "colab": {
          "base_uri": "https://localhost:8080/"
        }
      },
      "source": [
        ""
      ],
      "execution_count": 52,
      "outputs": [
        {
          "output_type": "stream",
          "text": [
            "['t', 'h', 'e', ' ', 'e', 'n', 'g', 'l', 'i', 's', 'h', ' ', 'w', 'i', 'k', 'i', 'p', 'e', 'd', 'i', 'a', ' ', 'i', 's', ' ', 't', 'h', 'e', ' ', 'e', 'n', 'g', 'l', 'i', 's', 'h', ' ', 'l', 'a', 'n', 'g', 'u', 'a', 'g', 'e', ' ', 'e', 'd', 'i', 't', 'i', 'o', 'n', ' ', 'o', 'f', ' ', 't', 'h', 'e', ' ', 'f', 'r', 'e', 'e', ' ', 'o', 'n', 'l', 'i', 'n', 'e', ' ', 'e', 'n', 'c', 'y', 'c', 'l', 'o', 'p', 'e', 'd', 'i', 'a', ' ', 'w', 'i', 'k', 'i', 'p', 'e', 'd', 'i', 'a', ' ', 'f', 'o', 'u', 'n', 'd', 'e', 'd', ' ', 'o', 'n', ' ', '1', '5', ' ', 'j', 'a', 'n', 'u', 'a', 'r', 'y', ' ', '2', '0', '0', '1', ' ', ' ', 'i', 't', ' ', 'i', 's', ' ', 't', 'h', 'e', ' ', 'f', 'i', 'r', 's', 't', ' ', 'e', 'd', 'i', 't', 'i', 'o', 'n', ' ', 'o', 'f', ' ', 'w', 'i', 'k', 'i', 'p', 'e', 'd', 'i', 'a', ' ', 'a', 'n', 'd', ' ', ' ', 'a', 's', ' ', 'o', 'f', ' ', 'a', 'p', 'r', 'i', 'l', ' ', '2', '0', '1', '9', ' ', ' ', 'h', 'a', 's', ' ', 't', 'h', 'e', ' ', 'm', 'o', 's', 't', ' ', 'a', 'r', 't', 'i', 'c', 'l', 'e', 's', ' ', 'o', 'f', ' ', 'a', 'n', 'y', ' ', 'e', 'd', 'i', 't', 'i', 'o', 'n', ' ', '2', ' ', ' ', 'a', 's', ' ', 'o', 'f', ' ', 'o', 'c', 't', 'o', 'b', 'e', 'r', ' ', '2', '0', '2', '0', ' ', ' ', '1', '1', ' ', ' ', 'o', 'f', ' ', 'a', 'r', 't', 'i', 'c', 'l', 'e', 's', ' ', 'i', 'n', ' ', 'a', 'l', 'l', ' ', 'w', 'i', 'k', 'i', 'p', 'e', 'd', 'i', 'a', 's', ' ', 'b', 'e', 'l', 'o', 'n', 'g', ' ', 't', 'o', ' ', 't', 'h', 'e', ' ', 'e', 'n', 'g', 'l', 'i', 's', 'h', ' ', 'l', 'a', 'n', 'g', 'u', 'a', 'g', 'e', ' ', 'e', 'd', 'i', 't', 'i', 'o', 'n', ' ', 't', 'h', 'i', 's', ' ', 's', 'h', 'a', 'r', 'e', ' ', 'h', 'a', 's', ' ', 'g', 'r', 'a', 'd', 'u', 'a', 'l', 'l', 'y', ' ', 'd', 'e', 'c', 'l', 'i', 'n', 'e', 'd', ' ', 'f', 'r', 'o', 'm', ' ', 'm', 'o', 'r', 'e', ' ', 't', 'h', 'a', 'n', ' ', '5', '0', ' ', 'p', 'e', 'r', 'c', 'e', 'n', 't', ' ', 'i', 'n', ' ', '2', '0', '0', '3', ' ', ' ', 'd', 'u', 'e', ' ', 't', 'o', ' ', 't', 'h', 'e', ' ', 'g', 'r', 'o', 'w', 't', 'h', ' ', 'o', 'f', ' ', 'w', 'i', 'k', 'i', 'p', 'e', 'd', 'i', 'a', 's', ' ', 'i', 'n', ' ', 'o', 't', 'h', 'e', 'r', ' ', 'l', 'a', 'n', 'g', 'u', 'a', 'g', 'e', 's', ' ', '3', ' ', ' ', 'a', 's', ' ', 'o', 'f', ' ', '2', '9', ' ', 'o', 'c', 't', 'o', 'b', 'e', 'r', ' ', '2', '0', '2', '0']\n"
          ],
          "name": "stdout"
        }
      ]
    },
    {
      "cell_type": "code",
      "metadata": {
        "id": "OZ-S7Z60WWHB"
      },
      "source": [
        ""
      ],
      "execution_count": 47,
      "outputs": []
    },
    {
      "cell_type": "code",
      "metadata": {
        "id": "ARw98umiWWPv"
      },
      "source": [
        ""
      ],
      "execution_count": null,
      "outputs": []
    },
    {
      "cell_type": "code",
      "metadata": {
        "id": "D0bJ9-2IWWTe"
      },
      "source": [
        ""
      ],
      "execution_count": null,
      "outputs": []
    },
    {
      "cell_type": "code",
      "metadata": {
        "id": "olbpF0tAWWRq"
      },
      "source": [
        ""
      ],
      "execution_count": null,
      "outputs": []
    },
    {
      "cell_type": "code",
      "metadata": {
        "id": "azWy6NWfWWNp"
      },
      "source": [
        ""
      ],
      "execution_count": null,
      "outputs": []
    },
    {
      "cell_type": "code",
      "metadata": {
        "id": "8wMd82omWWLk"
      },
      "source": [
        ""
      ],
      "execution_count": null,
      "outputs": []
    },
    {
      "cell_type": "code",
      "metadata": {
        "id": "xOItz1YeWWJq"
      },
      "source": [
        ""
      ],
      "execution_count": null,
      "outputs": []
    }
  ]
}