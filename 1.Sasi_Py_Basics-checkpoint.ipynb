{
  "nbformat": 4,
  "nbformat_minor": 0,
  "metadata": {
    "kernelspec": {
      "display_name": "Python 3",
      "language": "python",
      "name": "python3"
    },
    "language_info": {
      "codemirror_mode": {
        "name": "ipython",
        "version": 3
      },
      "file_extension": ".py",
      "mimetype": "text/x-python",
      "name": "python",
      "nbconvert_exporter": "python",
      "pygments_lexer": "ipython3",
      "version": "3.8.3"
    },
    "colab": {
      "name": "1.Sasi_Py_Basics-checkpoint.ipynb",
      "provenance": [],
      "include_colab_link": true
    }
  },
  "cells": [
    {
      "cell_type": "markdown",
      "metadata": {
        "id": "view-in-github",
        "colab_type": "text"
      },
      "source": [
        "<a href=\"https://colab.research.google.com/github/sasireddyvari/Python/blob/master/1.Sasi_Py_Basics-checkpoint.ipynb\" target=\"_parent\"><img src=\"https://colab.research.google.com/assets/colab-badge.svg\" alt=\"Open In Colab\"/></a>"
      ]
    },
    {
      "cell_type": "markdown",
      "metadata": {
        "id": "x4fHbPRxa7GK"
      },
      "source": [
        "<h1><center> Sasi Reddyvari(Python)</center></h1>"
      ]
    },
    {
      "cell_type": "markdown",
      "metadata": {
        "id": "IXxtwQwya7GM"
      },
      "source": [
        "[Artificial Intelligence(Augmented AI-Today)](https://dev.azure.com/sasireddyvari/projects):\n",
        "A branch of Computer Science and simulation of human intelligence in machines that are programmed to think like humans and mimic their actions.\n",
        "A Machine which learns by itself by finding the relationships without human intervention as we do is Pure AI.\n",
        "Ex: Sophia, AI News Anchor\n",
        "\n",
        "Augmented Automated Intelligence is achieved by the intersection or combination of\n",
        "- Data Science- Pre-processing, Analysis, Visualization and Prediction.\n",
        "- Statistics\n",
        "- BigData\n",
        "- Natural Language Processing\n",
        "- Machine Learning\n",
        "- DeepLearning\n",
        "- Computer Vision\n",
        "- DevOps\n",
        "\n",
        "Examples:\n",
        "Alexa,\n",
        "Sophia,\n",
        "Alpha Go,\n",
        "Google Predictive Search Engine ,\n",
        "JP Morgan uses AI, ML, image recognition software to analyze legal docs,\n",
        "IBM Watson in health care used to diagnose ,DNA analysis, Question Answering Computing system,\n",
        "Google's AI Eye Doctor ,\n",
        "Social Media heavily rely on AI like offensive speech, terrorist link accounts, auto tagging,\n",
        "Virtual Assistants - Google DUPLEX not only repsond calls and book appointments adds human touch also apart from SIRI ,alexa etc,\n",
        "SELF driving cars -TESLA,\n",
        "Netflix studies personalized movie recommendations for each of its users,\n",
        "Gmail Span filtering,\n",
        "To spot stars,\n",
        "ALL tech giants companies like Google , Tesla,FB,twiiter, infact Netflix also heavily rely on AI."
      ]
    },
    {
      "cell_type": "markdown",
      "metadata": {
        "id": "sK61QC-1a7GN"
      },
      "source": [
        "# Introduction"
      ]
    },
    {
      "cell_type": "markdown",
      "metadata": {
        "id": "-6ivyEQoa7GO"
      },
      "source": [
        "HandsOn: [Python(JupyterNotebook)](https://github.com/sasireddyvari)\n",
        "\n",
        "Python is an interpreted, object-oriented, high-level programming language with dynamic semantics. Its high-level built in data structures, combined with dynamic typing and dynamic binding, make it very attractive for Rapid Application Development, as well as for use as a scripting or glue language to connect existing components together. Python's simple, easy to learn syntax emphasizes readability and therefore reduces the cost of program maintenance. Python supports modules and packages, which encourages program modularity and code reuse. The Python interpreter and the extensive standard library are available in source or binary form without charge for all major platforms, and can be freely distributed."
      ]
    },
    {
      "cell_type": "markdown",
      "metadata": {
        "id": "W9YyUWVAa7GP"
      },
      "source": [
        "# Python is a interpreted as well as compiled language based on scenario"
      ]
    },
    {
      "cell_type": "code",
      "metadata": {
        "id": "_VPY-1C4a7GQ"
      },
      "source": [
        "# Primitive- Homogenous Data\n",
        "# Non Primitive - Heterogenous data types\n",
        "i= 2 # Integer"
      ],
      "execution_count": 2,
      "outputs": []
    },
    {
      "cell_type": "code",
      "metadata": {
        "id": "TQOv2zuHa7GY",
        "outputId": "ead20253-f4ed-4b9b-a35c-5644eb7024ce",
        "colab": {
          "base_uri": "https://localhost:8080/",
          "height": 51
        }
      },
      "source": [
        "print(i)\n",
        "type(i)"
      ],
      "execution_count": 3,
      "outputs": [
        {
          "output_type": "stream",
          "text": [
            "2\n"
          ],
          "name": "stdout"
        },
        {
          "output_type": "execute_result",
          "data": {
            "text/plain": [
              "int"
            ]
          },
          "metadata": {
            "tags": []
          },
          "execution_count": 3
        }
      ]
    },
    {
      "cell_type": "code",
      "metadata": {
        "id": "Bgy7T6yUa7Ge",
        "outputId": "4e596979-1785-4a0b-a452-1613b8fa6ebb",
        "colab": {
          "base_uri": "https://localhost:8080/",
          "height": 34
        }
      },
      "source": [
        "id(i)"
      ],
      "execution_count": 4,
      "outputs": [
        {
          "output_type": "execute_result",
          "data": {
            "text/plain": [
              "10914528"
            ]
          },
          "metadata": {
            "tags": []
          },
          "execution_count": 4
        }
      ]
    },
    {
      "cell_type": "code",
      "metadata": {
        "id": "skizbMApa7Gi",
        "outputId": "d816f55c-abd8-4c3f-cb32-a93874f07bfe",
        "colab": {
          "base_uri": "https://localhost:8080/",
          "height": 34
        }
      },
      "source": [
        "i+=1\n",
        "i-=2\n",
        "print(i)"
      ],
      "execution_count": 5,
      "outputs": [
        {
          "output_type": "stream",
          "text": [
            "1\n"
          ],
          "name": "stdout"
        }
      ]
    },
    {
      "cell_type": "code",
      "metadata": {
        "id": "9mrJSfeia7Gn"
      },
      "source": [
        "i=2.0 # Float"
      ],
      "execution_count": 6,
      "outputs": []
    },
    {
      "cell_type": "code",
      "metadata": {
        "id": "3A6EYfyVa7Gr",
        "outputId": "e5cde03f-51c9-44d1-df96-7ba7cb05435a",
        "colab": {
          "base_uri": "https://localhost:8080/",
          "height": 51
        }
      },
      "source": [
        "print(i)\n",
        "type(i)"
      ],
      "execution_count": 7,
      "outputs": [
        {
          "output_type": "stream",
          "text": [
            "2.0\n"
          ],
          "name": "stdout"
        },
        {
          "output_type": "execute_result",
          "data": {
            "text/plain": [
              "float"
            ]
          },
          "metadata": {
            "tags": []
          },
          "execution_count": 7
        }
      ]
    },
    {
      "cell_type": "code",
      "metadata": {
        "id": "IaNhS_jWa7Gw",
        "outputId": "04420e2d-791b-4e32-eda9-ec4f0350e59a",
        "colab": {
          "base_uri": "https://localhost:8080/",
          "height": 34
        }
      },
      "source": [
        "i+=1\n",
        "i-=2\n",
        "print(i)"
      ],
      "execution_count": 8,
      "outputs": [
        {
          "output_type": "stream",
          "text": [
            "1.0\n"
          ],
          "name": "stdout"
        }
      ]
    },
    {
      "cell_type": "code",
      "metadata": {
        "id": "nupFMlraa7G2"
      },
      "source": [
        "i=\"sasi\" # string"
      ],
      "execution_count": 9,
      "outputs": []
    },
    {
      "cell_type": "code",
      "metadata": {
        "id": "LgIlbFjna7G7",
        "outputId": "345437c4-3923-4d4e-89dc-961ffef91f5e",
        "colab": {
          "base_uri": "https://localhost:8080/",
          "height": 51
        }
      },
      "source": [
        "print(i)\n",
        "type(i)"
      ],
      "execution_count": 10,
      "outputs": [
        {
          "output_type": "stream",
          "text": [
            "sasi\n"
          ],
          "name": "stdout"
        },
        {
          "output_type": "execute_result",
          "data": {
            "text/plain": [
              "str"
            ]
          },
          "metadata": {
            "tags": []
          },
          "execution_count": 10
        }
      ]
    },
    {
      "cell_type": "code",
      "metadata": {
        "id": "8pehe1kxa7G-",
        "outputId": "9a173deb-b619-44da-ed85-6dd1962fdd12",
        "colab": {
          "base_uri": "https://localhost:8080/",
          "height": 35
        }
      },
      "source": [
        "i+\"kumar\""
      ],
      "execution_count": 11,
      "outputs": [
        {
          "output_type": "execute_result",
          "data": {
            "application/vnd.google.colaboratory.intrinsic+json": {
              "type": "string"
            },
            "text/plain": [
              "'sasikumar'"
            ]
          },
          "metadata": {
            "tags": []
          },
          "execution_count": 11
        }
      ]
    },
    {
      "cell_type": "code",
      "metadata": {
        "id": "XHzhSILYa7HC",
        "outputId": "4eafb74c-d393-4257-8f40-7f999c4b9bce",
        "colab": {
          "base_uri": "https://localhost:8080/",
          "height": 35
        }
      },
      "source": [
        "i+'kumar'"
      ],
      "execution_count": 12,
      "outputs": [
        {
          "output_type": "execute_result",
          "data": {
            "application/vnd.google.colaboratory.intrinsic+json": {
              "type": "string"
            },
            "text/plain": [
              "'sasikumar'"
            ]
          },
          "metadata": {
            "tags": []
          },
          "execution_count": 12
        }
      ]
    },
    {
      "cell_type": "code",
      "metadata": {
        "id": "l8ArvWITa7HG",
        "outputId": "78560524-e5e8-4c4e-862f-896c7481811b",
        "colab": {
          "base_uri": "https://localhost:8080/",
          "height": 35
        }
      },
      "source": [
        "i+ \"kumar's Python\" # to escape ' in the data set"
      ],
      "execution_count": 13,
      "outputs": [
        {
          "output_type": "execute_result",
          "data": {
            "application/vnd.google.colaboratory.intrinsic+json": {
              "type": "string"
            },
            "text/plain": [
              "\"sasikumar's Python\""
            ]
          },
          "metadata": {
            "tags": []
          },
          "execution_count": 13
        }
      ]
    },
    {
      "cell_type": "markdown",
      "metadata": {
        "id": "m1c3Ar2wa7HM"
      },
      "source": [
        "# Converting string to integer\n"
      ]
    },
    {
      "cell_type": "code",
      "metadata": {
        "id": "sUByTZkYa7HQ",
        "outputId": "696c31fe-3000-46f3-ffb9-aefc35608343",
        "colab": {
          "base_uri": "https://localhost:8080/",
          "height": 34
        }
      },
      "source": [
        "int('23')"
      ],
      "execution_count": 14,
      "outputs": [
        {
          "output_type": "execute_result",
          "data": {
            "text/plain": [
              "23"
            ]
          },
          "metadata": {
            "tags": []
          },
          "execution_count": 14
        }
      ]
    },
    {
      "cell_type": "markdown",
      "metadata": {
        "id": "IlTZwkP8a7HW"
      },
      "source": [
        "# Converting integer to string"
      ]
    },
    {
      "cell_type": "code",
      "metadata": {
        "id": "64KWb8Sea7HX",
        "outputId": "c3c97077-3dc2-4756-b228-82701027ada7",
        "colab": {
          "base_uri": "https://localhost:8080/",
          "height": 35
        }
      },
      "source": [
        "str(123)"
      ],
      "execution_count": 16,
      "outputs": [
        {
          "output_type": "execute_result",
          "data": {
            "application/vnd.google.colaboratory.intrinsic+json": {
              "type": "string"
            },
            "text/plain": [
              "'123'"
            ]
          },
          "metadata": {
            "tags": []
          },
          "execution_count": 16
        }
      ]
    },
    {
      "cell_type": "markdown",
      "metadata": {
        "id": "3V_3a1Mpa7Hf"
      },
      "source": [
        "# + operator"
      ]
    },
    {
      "cell_type": "code",
      "metadata": {
        "id": "CrqsX-6aa7Hg",
        "outputId": "0971579a-2693-4f3e-932d-e9d89f6c8c88",
        "colab": {
          "base_uri": "https://localhost:8080/",
          "height": 34
        }
      },
      "source": [
        "1+2"
      ],
      "execution_count": 17,
      "outputs": [
        {
          "output_type": "execute_result",
          "data": {
            "text/plain": [
              "3"
            ]
          },
          "metadata": {
            "tags": []
          },
          "execution_count": 17
        }
      ]
    },
    {
      "cell_type": "code",
      "metadata": {
        "id": "O5UN0E8oa7Hl",
        "outputId": "c73b5f47-32d9-4817-aad1-af2ea70215b8",
        "colab": {
          "base_uri": "https://localhost:8080/",
          "height": 35
        }
      },
      "source": [
        "'1' + 'sasi'"
      ],
      "execution_count": 18,
      "outputs": [
        {
          "output_type": "execute_result",
          "data": {
            "application/vnd.google.colaboratory.intrinsic+json": {
              "type": "string"
            },
            "text/plain": [
              "'1sasi'"
            ]
          },
          "metadata": {
            "tags": []
          },
          "execution_count": 18
        }
      ]
    },
    {
      "cell_type": "code",
      "metadata": {
        "id": "faD8Mel7a7Hr",
        "outputId": "592de354-2124-4841-b869-27459144443b",
        "colab": {
          "base_uri": "https://localhost:8080/",
          "height": 35
        }
      },
      "source": [
        "str(1) + 'sasi'"
      ],
      "execution_count": 19,
      "outputs": [
        {
          "output_type": "execute_result",
          "data": {
            "application/vnd.google.colaboratory.intrinsic+json": {
              "type": "string"
            },
            "text/plain": [
              "'1sasi'"
            ]
          },
          "metadata": {
            "tags": []
          },
          "execution_count": 19
        }
      ]
    },
    {
      "cell_type": "markdown",
      "metadata": {
        "id": "IbWSKbFxa7Hx"
      },
      "source": [
        "# * operator"
      ]
    },
    {
      "cell_type": "code",
      "metadata": {
        "id": "U0I4b1gNa7Hx",
        "outputId": "abfcb734-5688-4865-afa5-38c531a3b6a3",
        "colab": {
          "base_uri": "https://localhost:8080/",
          "height": 52
        }
      },
      "source": [
        "print(2 * 3)\n",
        "'sasi' * 5"
      ],
      "execution_count": 20,
      "outputs": [
        {
          "output_type": "stream",
          "text": [
            "6\n"
          ],
          "name": "stdout"
        },
        {
          "output_type": "execute_result",
          "data": {
            "application/vnd.google.colaboratory.intrinsic+json": {
              "type": "string"
            },
            "text/plain": [
              "'sasisasisasisasisasi'"
            ]
          },
          "metadata": {
            "tags": []
          },
          "execution_count": 20
        }
      ]
    },
    {
      "cell_type": "code",
      "metadata": {
        "id": "Qmy4YC9Fa7H2",
        "outputId": "d1f1b9ed-d1e7-4ae0-f303-dd7317ad5518",
        "colab": {
          "base_uri": "https://localhost:8080/",
          "height": 34
        }
      },
      "source": [
        "2 ** 3"
      ],
      "execution_count": 21,
      "outputs": [
        {
          "output_type": "execute_result",
          "data": {
            "text/plain": [
              "8"
            ]
          },
          "metadata": {
            "tags": []
          },
          "execution_count": 21
        }
      ]
    },
    {
      "cell_type": "markdown",
      "metadata": {
        "id": "w_yjN21oa7H5"
      },
      "source": [
        "# / Operator"
      ]
    },
    {
      "cell_type": "code",
      "metadata": {
        "id": "tEQQsMU_a7H6",
        "outputId": "7df09f58-e4cb-4a43-ad1c-87aed9a37990",
        "colab": {
          "base_uri": "https://localhost:8080/",
          "height": 34
        }
      },
      "source": [
        "2/3"
      ],
      "execution_count": 22,
      "outputs": [
        {
          "output_type": "execute_result",
          "data": {
            "text/plain": [
              "0.6666666666666666"
            ]
          },
          "metadata": {
            "tags": []
          },
          "execution_count": 22
        }
      ]
    },
    {
      "cell_type": "markdown",
      "metadata": {
        "id": "J_MMSox4a7H-"
      },
      "source": [
        "# // Operator"
      ]
    },
    {
      "cell_type": "code",
      "metadata": {
        "id": "vKLJz3cpa7H_",
        "outputId": "c78206f9-df1a-4e43-f699-1969e7a21f8c",
        "colab": {
          "base_uri": "https://localhost:8080/",
          "height": 34
        }
      },
      "source": [
        "2//3"
      ],
      "execution_count": 29,
      "outputs": [
        {
          "output_type": "execute_result",
          "data": {
            "text/plain": [
              "0"
            ]
          },
          "metadata": {
            "tags": []
          },
          "execution_count": 29
        }
      ]
    },
    {
      "cell_type": "markdown",
      "metadata": {
        "id": "aR5sL8zLa7IC"
      },
      "source": [
        "# % Operator"
      ]
    },
    {
      "cell_type": "code",
      "metadata": {
        "id": "bba7yYfLa7ID",
        "outputId": "7174b865-5b3c-44cc-f95d-c261e42e6405",
        "colab": {
          "base_uri": "https://localhost:8080/",
          "height": 34
        }
      },
      "source": [
        "2 % 3"
      ],
      "execution_count": 30,
      "outputs": [
        {
          "output_type": "execute_result",
          "data": {
            "text/plain": [
              "2"
            ]
          },
          "metadata": {
            "tags": []
          },
          "execution_count": 30
        }
      ]
    },
    {
      "cell_type": "markdown",
      "metadata": {
        "id": "tyDsyiDTa7IS"
      },
      "source": [
        "# Boolean "
      ]
    },
    {
      "cell_type": "code",
      "metadata": {
        "id": "bbjug6z7a7IT",
        "outputId": "4a029afc-2db2-4444-90fd-ec43ec85148a",
        "colab": {
          "base_uri": "https://localhost:8080/",
          "height": 34
        }
      },
      "source": [
        "True + True"
      ],
      "execution_count": 31,
      "outputs": [
        {
          "output_type": "execute_result",
          "data": {
            "text/plain": [
              "2"
            ]
          },
          "metadata": {
            "tags": []
          },
          "execution_count": 31
        }
      ]
    },
    {
      "cell_type": "code",
      "metadata": {
        "id": "hMtoSzlpa7IW",
        "outputId": "a3334dd3-6bd9-4586-a195-9695f29d8089",
        "colab": {
          "base_uri": "https://localhost:8080/",
          "height": 34
        }
      },
      "source": [
        "True + False"
      ],
      "execution_count": 32,
      "outputs": [
        {
          "output_type": "execute_result",
          "data": {
            "text/plain": [
              "1"
            ]
          },
          "metadata": {
            "tags": []
          },
          "execution_count": 32
        }
      ]
    },
    {
      "cell_type": "markdown",
      "metadata": {
        "id": "-XW5L0oIa7Ib"
      },
      "source": [
        "# If / elif / else"
      ]
    },
    {
      "cell_type": "code",
      "metadata": {
        "id": "Og9wveLoa7If",
        "outputId": "960a187b-3951-436b-eb02-3be20103b15e",
        "colab": {
          "base_uri": "https://localhost:8080/",
          "height": 34
        }
      },
      "source": [
        "\n",
        "i=9\n",
        "if (i==10):\n",
        "    print(9)\n",
        "    print('This is mine')\n",
        "elif i==9:\n",
        "    print(\"elif\")\n",
        "else:\n",
        "    print(\"else\")"
      ],
      "execution_count": 33,
      "outputs": [
        {
          "output_type": "stream",
          "text": [
            "elif\n"
          ],
          "name": "stdout"
        }
      ]
    },
    {
      "cell_type": "code",
      "metadata": {
        "id": "Hxi31qqga7Ij",
        "outputId": "761f58c7-219e-4755-a585-37a445a4a118",
        "colab": {
          "base_uri": "https://localhost:8080/",
          "height": 34
        }
      },
      "source": [
        "\n",
        "j='complex'\n",
        "if j=='complex':\n",
        "    print(j)"
      ],
      "execution_count": 34,
      "outputs": [
        {
          "output_type": "stream",
          "text": [
            "complex\n"
          ],
          "name": "stdout"
        }
      ]
    },
    {
      "cell_type": "markdown",
      "metadata": {
        "id": "GsXxhodra7Im"
      },
      "source": [
        "# List--Mutable(Value can be changed)\n",
        "### Set--Mutable\n",
        "### Dictionary--Mutable\n",
        "### String--Immutable\n",
        "### Tuple--Immutable"
      ]
    },
    {
      "cell_type": "code",
      "metadata": {
        "id": "SyYQAU4ya7In",
        "outputId": "291662e4-42a6-4950-bd35-878036ef3dbc",
        "colab": {
          "base_uri": "https://localhost:8080/",
          "height": 34
        }
      },
      "source": [
        "k=[1,'sasi','kumar','true','false']\n",
        "k\n",
        "#type(k)"
      ],
      "execution_count": 35,
      "outputs": [
        {
          "output_type": "execute_result",
          "data": {
            "text/plain": [
              "[1, 'sasi', 'kumar', 'true', 'false']"
            ]
          },
          "metadata": {
            "tags": []
          },
          "execution_count": 35
        }
      ]
    },
    {
      "cell_type": "code",
      "metadata": {
        "id": "W-5jLuaPa7Iq",
        "outputId": "c03a7ad0-8e4f-48f2-c42c-e10aa3548988",
        "colab": {
          "base_uri": "https://localhost:8080/",
          "height": 34
        }
      },
      "source": [
        "m=list()\n",
        "type(m)"
      ],
      "execution_count": 36,
      "outputs": [
        {
          "output_type": "execute_result",
          "data": {
            "text/plain": [
              "list"
            ]
          },
          "metadata": {
            "tags": []
          },
          "execution_count": 36
        }
      ]
    },
    {
      "cell_type": "code",
      "metadata": {
        "id": "CzzZvOJha7Iy",
        "outputId": "af0134a4-c5bf-4c06-b88e-13fe494ae2a4",
        "colab": {
          "base_uri": "https://localhost:8080/",
          "height": 34
        }
      },
      "source": [
        "k[4:1:1]"
      ],
      "execution_count": 37,
      "outputs": [
        {
          "output_type": "execute_result",
          "data": {
            "text/plain": [
              "[]"
            ]
          },
          "metadata": {
            "tags": []
          },
          "execution_count": 37
        }
      ]
    },
    {
      "cell_type": "code",
      "metadata": {
        "id": "SuWZuTVJa7I1",
        "outputId": "6bef3419-3640-4725-f01d-49b78acf19c0"
      },
      "source": [
        "k[4:1:-1]"
      ],
      "execution_count": null,
      "outputs": [
        {
          "output_type": "execute_result",
          "data": {
            "text/plain": [
              "['false', 'true', 'kumar']"
            ]
          },
          "metadata": {
            "tags": []
          },
          "execution_count": 30
        }
      ]
    },
    {
      "cell_type": "code",
      "metadata": {
        "id": "yeBo8hXya7I4",
        "outputId": "ade49d91-5161-4f14-db25-4e1f7b593717",
        "colab": {
          "base_uri": "https://localhost:8080/",
          "height": 34
        }
      },
      "source": [
        "k[::-1]"
      ],
      "execution_count": 38,
      "outputs": [
        {
          "output_type": "execute_result",
          "data": {
            "text/plain": [
              "['false', 'true', 'kumar', 'sasi', 1]"
            ]
          },
          "metadata": {
            "tags": []
          },
          "execution_count": 38
        }
      ]
    },
    {
      "cell_type": "code",
      "metadata": {
        "id": "2VDDZzC6a7I8",
        "outputId": "68ee2a04-b9e4-4d4d-a93b-434f3a7a5615",
        "colab": {
          "base_uri": "https://localhost:8080/",
          "height": 35
        }
      },
      "source": [
        "s='sasi'\n",
        "s[1:3:]"
      ],
      "execution_count": 42,
      "outputs": [
        {
          "output_type": "execute_result",
          "data": {
            "application/vnd.google.colaboratory.intrinsic+json": {
              "type": "string"
            },
            "text/plain": [
              "'as'"
            ]
          },
          "metadata": {
            "tags": []
          },
          "execution_count": 42
        }
      ]
    },
    {
      "cell_type": "code",
      "metadata": {
        "id": "LI1BxjWQa7I_",
        "outputId": "b979e16c-0f7a-4af9-e9d9-0abeb0ca7900",
        "colab": {
          "base_uri": "https://localhost:8080/",
          "height": 34
        }
      },
      "source": [
        "b=[]\n",
        "for i in k:\n",
        "    if type(i)==str:\n",
        "        b.append(i)\n",
        "print(b)"
      ],
      "execution_count": 47,
      "outputs": [
        {
          "output_type": "stream",
          "text": [
            "['sasi', 'kumar', 'true', 'false']\n"
          ],
          "name": "stdout"
        }
      ]
    },
    {
      "cell_type": "code",
      "metadata": {
        "id": "NcEBLWaoa7JD",
        "outputId": "6dd8acf5-0eab-4c8f-a2f0-1bf0e82b72f0",
        "colab": {
          "base_uri": "https://localhost:8080/",
          "height": 34
        }
      },
      "source": [
        "len(b)"
      ],
      "execution_count": 45,
      "outputs": [
        {
          "output_type": "execute_result",
          "data": {
            "text/plain": [
              "4"
            ]
          },
          "metadata": {
            "tags": []
          },
          "execution_count": 45
        }
      ]
    },
    {
      "cell_type": "code",
      "metadata": {
        "id": "ipdW2I4fa7JH",
        "outputId": "4497f1df-91eb-44fc-93c5-ba8768e4e22a"
      },
      "source": [
        "a=[0,1,2,3,4]\n",
        "squares=[i*i for i in a]\n",
        "squares"
      ],
      "execution_count": null,
      "outputs": [
        {
          "output_type": "execute_result",
          "data": {
            "text/plain": [
              "[0, 1, 4, 9, 16]"
            ]
          },
          "metadata": {
            "tags": []
          },
          "execution_count": 35
        }
      ]
    },
    {
      "cell_type": "code",
      "metadata": {
        "id": "9oe5rYLOa7JM",
        "outputId": "41c5f79d-dc0b-45d5-d50d-5d72a5bc4967"
      },
      "source": [
        "a= [\"sasi\",\"kumar\",2,4]\n",
        "b=[]\n",
        "for i in range(len(a)-1,-1,-1):\n",
        "    b.append(a[i])\n",
        "b"
      ],
      "execution_count": null,
      "outputs": [
        {
          "output_type": "execute_result",
          "data": {
            "text/plain": [
              "[4, 2, 'kumar', 'sasi']"
            ]
          },
          "metadata": {
            "tags": []
          },
          "execution_count": 38
        }
      ]
    },
    {
      "cell_type": "markdown",
      "metadata": {
        "id": "ozz-NVpua7JQ"
      },
      "source": [
        "# dir()"
      ]
    },
    {
      "cell_type": "code",
      "metadata": {
        "id": "cc2emCIUa7JR",
        "outputId": "ff5ea71d-b99a-4d9c-a808-ebee0d5d617f"
      },
      "source": [
        "dir(a)"
      ],
      "execution_count": null,
      "outputs": [
        {
          "output_type": "execute_result",
          "data": {
            "text/plain": [
              "['__add__',\n",
              " '__class__',\n",
              " '__contains__',\n",
              " '__delattr__',\n",
              " '__dir__',\n",
              " '__doc__',\n",
              " '__eq__',\n",
              " '__format__',\n",
              " '__ge__',\n",
              " '__getattribute__',\n",
              " '__getitem__',\n",
              " '__getnewargs__',\n",
              " '__gt__',\n",
              " '__hash__',\n",
              " '__init__',\n",
              " '__init_subclass__',\n",
              " '__iter__',\n",
              " '__le__',\n",
              " '__len__',\n",
              " '__lt__',\n",
              " '__mod__',\n",
              " '__mul__',\n",
              " '__ne__',\n",
              " '__new__',\n",
              " '__reduce__',\n",
              " '__reduce_ex__',\n",
              " '__repr__',\n",
              " '__rmod__',\n",
              " '__rmul__',\n",
              " '__setattr__',\n",
              " '__sizeof__',\n",
              " '__str__',\n",
              " '__subclasshook__',\n",
              " 'capitalize',\n",
              " 'casefold',\n",
              " 'center',\n",
              " 'count',\n",
              " 'encode',\n",
              " 'endswith',\n",
              " 'expandtabs',\n",
              " 'find',\n",
              " 'format',\n",
              " 'format_map',\n",
              " 'index',\n",
              " 'isalnum',\n",
              " 'isalpha',\n",
              " 'isascii',\n",
              " 'isdecimal',\n",
              " 'isdigit',\n",
              " 'isidentifier',\n",
              " 'islower',\n",
              " 'isnumeric',\n",
              " 'isprintable',\n",
              " 'isspace',\n",
              " 'istitle',\n",
              " 'isupper',\n",
              " 'join',\n",
              " 'ljust',\n",
              " 'lower',\n",
              " 'lstrip',\n",
              " 'maketrans',\n",
              " 'partition',\n",
              " 'replace',\n",
              " 'rfind',\n",
              " 'rindex',\n",
              " 'rjust',\n",
              " 'rpartition',\n",
              " 'rsplit',\n",
              " 'rstrip',\n",
              " 'split',\n",
              " 'splitlines',\n",
              " 'startswith',\n",
              " 'strip',\n",
              " 'swapcase',\n",
              " 'title',\n",
              " 'translate',\n",
              " 'upper',\n",
              " 'zfill']"
            ]
          },
          "metadata": {
            "tags": []
          },
          "execution_count": 91
        }
      ]
    },
    {
      "cell_type": "markdown",
      "metadata": {
        "id": "TTE50bYVa7JV"
      },
      "source": [
        "# Continue"
      ]
    },
    {
      "cell_type": "code",
      "metadata": {
        "id": "XhyTQmdWa7JW",
        "outputId": "b350f259-553d-4f39-cfc9-1bd490f893c5"
      },
      "source": [
        "for i in 'sasikumar':\n",
        "    if i=='s':\n",
        "        continue\n",
        "    print(i)\n",
        "print('sasikumar')"
      ],
      "execution_count": null,
      "outputs": [
        {
          "output_type": "stream",
          "text": [
            "a\n",
            "i\n",
            "k\n",
            "u\n",
            "m\n",
            "a\n",
            "r\n",
            "sasikumar\n"
          ],
          "name": "stdout"
        }
      ]
    },
    {
      "cell_type": "markdown",
      "metadata": {
        "id": "qend_tUXa7Ji"
      },
      "source": [
        "# Break"
      ]
    },
    {
      "cell_type": "code",
      "metadata": {
        "id": "2-OOseoja7Jk",
        "outputId": "5e4abd58-5ba2-49c8-db40-b4c44ae65e66"
      },
      "source": [
        "for i in 'sasikumar':\n",
        "    if i=='k':\n",
        "        break\n",
        "    print(i)\n",
        "print('sasikumar')"
      ],
      "execution_count": null,
      "outputs": [
        {
          "output_type": "stream",
          "text": [
            "s\n",
            "a\n",
            "s\n",
            "i\n",
            "sasikumar\n"
          ],
          "name": "stdout"
        }
      ]
    },
    {
      "cell_type": "markdown",
      "metadata": {
        "id": "GCsaNQ0Ia7Jn"
      },
      "source": [
        "# Range Function-- range(start,stop,step size)"
      ]
    },
    {
      "cell_type": "code",
      "metadata": {
        "id": "2_SdGS0ua7Jo",
        "outputId": "37cac62d-39cb-4eb0-bcf7-d6c7a4afb33d"
      },
      "source": [
        "range(5)"
      ],
      "execution_count": null,
      "outputs": [
        {
          "output_type": "execute_result",
          "data": {
            "text/plain": [
              "range(0, 5)"
            ]
          },
          "metadata": {
            "tags": []
          },
          "execution_count": 41
        }
      ]
    },
    {
      "cell_type": "code",
      "metadata": {
        "id": "DzElcA6Fa7Jw",
        "outputId": "b8ecb318-2def-41cd-a7d6-65f7699568cb"
      },
      "source": [
        "list(range(5))"
      ],
      "execution_count": null,
      "outputs": [
        {
          "output_type": "execute_result",
          "data": {
            "text/plain": [
              "[0, 1, 2, 3, 4]"
            ]
          },
          "metadata": {
            "tags": []
          },
          "execution_count": 42
        }
      ]
    },
    {
      "cell_type": "code",
      "metadata": {
        "id": "PkgkuPCna7J0",
        "outputId": "7ae59390-31e1-4728-ac7d-d66c6e9bd706"
      },
      "source": [
        "print(list(range(3,8,1)))"
      ],
      "execution_count": null,
      "outputs": [
        {
          "output_type": "stream",
          "text": [
            "[3, 4, 5, 6, 7]\n"
          ],
          "name": "stdout"
        }
      ]
    },
    {
      "cell_type": "code",
      "metadata": {
        "id": "CWrLAyc4a7J8",
        "outputId": "2776e1a2-483b-4ab9-f87b-7f723146c2b6"
      },
      "source": [
        "print(list(range(3,8,2)))"
      ],
      "execution_count": null,
      "outputs": [
        {
          "output_type": "stream",
          "text": [
            "[3, 5, 7]\n"
          ],
          "name": "stdout"
        }
      ]
    },
    {
      "cell_type": "code",
      "metadata": {
        "id": "7md5QY0Za7J_",
        "outputId": "977b7858-5785-4570-95f2-2495fe233cf8"
      },
      "source": [
        "print(list(range(3,8,-1)))"
      ],
      "execution_count": null,
      "outputs": [
        {
          "output_type": "stream",
          "text": [
            "[]\n"
          ],
          "name": "stdout"
        }
      ]
    },
    {
      "cell_type": "code",
      "metadata": {
        "id": "6srN-4SZa7KE",
        "outputId": "954e1606-898f-42b6-de69-a38e91b5fa5f"
      },
      "source": [
        "print(list(range(-1,0,1)))"
      ],
      "execution_count": null,
      "outputs": [
        {
          "output_type": "stream",
          "text": [
            "[-1]\n"
          ],
          "name": "stdout"
        }
      ]
    },
    {
      "cell_type": "code",
      "metadata": {
        "id": "ozEnrbsRa7KL",
        "outputId": "ae583539-f7c5-4976-c186-be8c6ffa3e81"
      },
      "source": [
        "list(range(10,0,1))"
      ],
      "execution_count": null,
      "outputs": [
        {
          "output_type": "execute_result",
          "data": {
            "text/plain": [
              "[]"
            ]
          },
          "metadata": {
            "tags": []
          },
          "execution_count": 47
        }
      ]
    },
    {
      "cell_type": "code",
      "metadata": {
        "id": "kAJkbkULa7KV",
        "outputId": "592640c8-35e7-4ee6-97d5-a15d7b4dbf4f"
      },
      "source": [
        "list(range(10,0,-1))"
      ],
      "execution_count": null,
      "outputs": [
        {
          "output_type": "execute_result",
          "data": {
            "text/plain": [
              "[10, 9, 8, 7, 6, 5, 4, 3, 2, 1]"
            ]
          },
          "metadata": {
            "tags": []
          },
          "execution_count": 48
        }
      ]
    },
    {
      "cell_type": "markdown",
      "metadata": {
        "id": "rGhfXNb0a7Kf"
      },
      "source": [
        "# Another way of creation of list"
      ]
    },
    {
      "cell_type": "code",
      "metadata": {
        "id": "3jzc0p-da7Kg"
      },
      "source": [
        "l=list(\"sasi\") # Difference "
      ],
      "execution_count": null,
      "outputs": []
    },
    {
      "cell_type": "code",
      "metadata": {
        "id": "VHhRExAva7Ki",
        "outputId": "caa392ca-1069-4d4c-9137-b1e73007f258"
      },
      "source": [
        "l"
      ],
      "execution_count": null,
      "outputs": [
        {
          "output_type": "execute_result",
          "data": {
            "text/plain": [
              "['s', 'a', 's', 'i']"
            ]
          },
          "metadata": {
            "tags": []
          },
          "execution_count": 53
        }
      ]
    },
    {
      "cell_type": "code",
      "metadata": {
        "id": "OSfbp5d0a7Kq"
      },
      "source": [
        "l=list([\"sasi\",\"Kumar\"])"
      ],
      "execution_count": null,
      "outputs": []
    },
    {
      "cell_type": "code",
      "metadata": {
        "id": "PUdLVfS_a7Ks",
        "outputId": "5f5a1117-86ed-4733-f739-c58f628b8f23"
      },
      "source": [
        "l"
      ],
      "execution_count": null,
      "outputs": [
        {
          "output_type": "execute_result",
          "data": {
            "text/plain": [
              "['sasi', 'Kumar']"
            ]
          },
          "metadata": {
            "tags": []
          },
          "execution_count": 55
        }
      ]
    },
    {
      "cell_type": "code",
      "metadata": {
        "id": "L1ZW-RSAa7K0",
        "outputId": "c816b855-4295-4e58-87fa-8cc8d73b0051"
      },
      "source": [
        "l[::-1]"
      ],
      "execution_count": null,
      "outputs": [
        {
          "output_type": "execute_result",
          "data": {
            "text/plain": [
              "['Kumar', 'sasi']"
            ]
          },
          "metadata": {
            "tags": []
          },
          "execution_count": 56
        }
      ]
    },
    {
      "cell_type": "code",
      "metadata": {
        "id": "g6Kr1ccPa7K9",
        "outputId": "d36bf981-dc32-4d99-857f-0ededa714ea4"
      },
      "source": [
        "l[1:0:-1]"
      ],
      "execution_count": null,
      "outputs": [
        {
          "output_type": "execute_result",
          "data": {
            "text/plain": [
              "['Kumar']"
            ]
          },
          "metadata": {
            "tags": []
          },
          "execution_count": 57
        }
      ]
    },
    {
      "cell_type": "code",
      "metadata": {
        "id": "iOeDAq5La7LH",
        "outputId": "ab27c377-a789-4281-8ed0-5d9605059163"
      },
      "source": [
        "s=\"sasi\"\n",
        "s[-1]"
      ],
      "execution_count": null,
      "outputs": [
        {
          "output_type": "execute_result",
          "data": {
            "text/plain": [
              "'i'"
            ]
          },
          "metadata": {
            "tags": []
          },
          "execution_count": 58
        }
      ]
    },
    {
      "cell_type": "code",
      "metadata": {
        "id": "jJ1YHfbBa7LM",
        "outputId": "443b5fbd-9bec-4b48-960e-5d87647c0322"
      },
      "source": [
        "s[3:-1:-1]"
      ],
      "execution_count": null,
      "outputs": [
        {
          "output_type": "execute_result",
          "data": {
            "text/plain": [
              "''"
            ]
          },
          "metadata": {
            "tags": []
          },
          "execution_count": 59
        }
      ]
    },
    {
      "cell_type": "code",
      "metadata": {
        "id": "hB8KbxG9a7LV"
      },
      "source": [
        "l=[1,2,3,4]"
      ],
      "execution_count": 48,
      "outputs": []
    },
    {
      "cell_type": "code",
      "metadata": {
        "id": "33UsLwAsa7La",
        "outputId": "a0f842a7-b4f2-4c8e-dca5-baf52c0f0169",
        "colab": {
          "base_uri": "https://localhost:8080/",
          "height": 34
        }
      },
      "source": [
        "l + [\"sasi\"] # + will ravel or unwrap the data "
      ],
      "execution_count": 49,
      "outputs": [
        {
          "output_type": "execute_result",
          "data": {
            "text/plain": [
              "[1, 2, 3, 4, 'sasi']"
            ]
          },
          "metadata": {
            "tags": []
          },
          "execution_count": 49
        }
      ]
    },
    {
      "cell_type": "code",
      "metadata": {
        "id": "VyoPeVlRa7Lf"
      },
      "source": [
        "l=[1,2,3,4]"
      ],
      "execution_count": 52,
      "outputs": []
    },
    {
      "cell_type": "code",
      "metadata": {
        "id": "iy8xQ273a7Li"
      },
      "source": [
        "l.append(\"[sasi]\") # append wil not ravel the data"
      ],
      "execution_count": 53,
      "outputs": []
    },
    {
      "cell_type": "code",
      "metadata": {
        "id": "WMM8JszTa7Lp",
        "outputId": "27d0a2a5-2e41-4f51-9bb1-6199317aa940"
      },
      "source": [
        "l"
      ],
      "execution_count": null,
      "outputs": [
        {
          "output_type": "execute_result",
          "data": {
            "text/plain": [
              "[1, 2, 3, 4, '[sasi]']"
            ]
          },
          "metadata": {
            "tags": []
          },
          "execution_count": 89
        }
      ]
    },
    {
      "cell_type": "markdown",
      "metadata": {
        "id": "Tmecgerha7Lr"
      },
      "source": [
        "# For Loop"
      ]
    },
    {
      "cell_type": "code",
      "metadata": {
        "id": "cGeXFudLa7Ls",
        "outputId": "566d397c-c591-4cc4-e460-9321d863a611"
      },
      "source": [
        "a=\"sasi\"\n",
        "for i in a:\n",
        "    print(i,end='\\t')"
      ],
      "execution_count": null,
      "outputs": [
        {
          "output_type": "stream",
          "text": [
            "s\ta\ts\ti\t"
          ],
          "name": "stdout"
        }
      ]
    },
    {
      "cell_type": "markdown",
      "metadata": {
        "id": "WLwen4Rra7Lw"
      },
      "source": [
        "# For else--- Else will be executed only when for loop is completed"
      ]
    },
    {
      "cell_type": "code",
      "metadata": {
        "id": "U74qP3CCa7Ly",
        "outputId": "930cdf49-0e7f-4ba1-e23f-920165649fbb"
      },
      "source": [
        "l=[1,2,3]\n",
        "m=0\n",
        "for i in l:\n",
        "    print(i)\n",
        "    m+=1\n",
        "else:\n",
        "    print(m,\"items are iterated\")"
      ],
      "execution_count": null,
      "outputs": [
        {
          "output_type": "stream",
          "text": [
            "1\n",
            "2\n",
            "3\n",
            "3 items are iterated\n"
          ],
          "name": "stdout"
        }
      ]
    },
    {
      "cell_type": "markdown",
      "metadata": {
        "id": "4XshsVGNa7L1"
      },
      "source": [
        "# Input"
      ]
    },
    {
      "cell_type": "code",
      "metadata": {
        "id": "emPNfy0Na7L1",
        "outputId": "f47ed3e8-b3cc-4684-f461-134b873410ba"
      },
      "source": [
        "input()"
      ],
      "execution_count": null,
      "outputs": [
        {
          "output_type": "stream",
          "text": [
            "sasi\n"
          ],
          "name": "stdout"
        },
        {
          "output_type": "execute_result",
          "data": {
            "text/plain": [
              "'sasi'"
            ]
          },
          "metadata": {
            "tags": []
          },
          "execution_count": 62
        }
      ]
    },
    {
      "cell_type": "code",
      "metadata": {
        "id": "oeeD24afa7L4",
        "outputId": "0623df31-aadb-4010-e458-f8233dd4392f"
      },
      "source": [
        "type(input())"
      ],
      "execution_count": null,
      "outputs": [
        {
          "output_type": "stream",
          "text": [
            "4534\n"
          ],
          "name": "stdout"
        },
        {
          "output_type": "execute_result",
          "data": {
            "text/plain": [
              "str"
            ]
          },
          "metadata": {
            "tags": []
          },
          "execution_count": 63
        }
      ]
    },
    {
      "cell_type": "code",
      "metadata": {
        "id": "X8adIrWCa7L6",
        "outputId": "574553b7-2b86-4d39-9a96-68563412dd49"
      },
      "source": [
        "type(int(input()))"
      ],
      "execution_count": null,
      "outputs": [
        {
          "output_type": "stream",
          "text": [
            "4534\n"
          ],
          "name": "stdout"
        },
        {
          "output_type": "execute_result",
          "data": {
            "text/plain": [
              "int"
            ]
          },
          "metadata": {
            "tags": []
          },
          "execution_count": 64
        }
      ]
    },
    {
      "cell_type": "code",
      "metadata": {
        "id": "iklBFXLJa7MA",
        "outputId": "37ce8c30-349d-4a7b-da36-53cc7668c12c"
      },
      "source": [
        "a=input()\n",
        "print(\"My name is \"+a)"
      ],
      "execution_count": null,
      "outputs": [
        {
          "output_type": "stream",
          "text": [
            "sasi\n",
            "My name is sasi\n"
          ],
          "name": "stdout"
        }
      ]
    },
    {
      "cell_type": "markdown",
      "metadata": {
        "id": "VSjkqMnga7MF"
      },
      "source": [
        "# Program for sum of numbers "
      ]
    },
    {
      "cell_type": "code",
      "metadata": {
        "id": "3w05fpiaa7MG",
        "outputId": "4a29ae9f-4a4f-4f58-8028-41fbb208e3fa"
      },
      "source": [
        "n=10\n",
        "x=[1,2,3,4,5,6,7,8,9,10]\n",
        "sum=0\n",
        "res=0\n",
        "i=0\n",
        "while i<10:\n",
        "    sum+=i\n",
        "    i+=1\n",
        "print(sum,end=\"\\t\")\n",
        "for val in x:\n",
        "    res+=val\n",
        "print(res)"
      ],
      "execution_count": null,
      "outputs": [
        {
          "output_type": "stream",
          "text": [
            "45\t55\n"
          ],
          "name": "stdout"
        }
      ]
    },
    {
      "cell_type": "code",
      "metadata": {
        "id": "YF1XcwDRa7MK"
      },
      "source": [
        ""
      ],
      "execution_count": null,
      "outputs": []
    }
  ]
}